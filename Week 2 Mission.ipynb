{
 "cells": [
  {
   "cell_type": "code",
   "execution_count": 2,
   "metadata": {
    "collapsed": true
   },
   "outputs": [
    {
     "data": {
      "text/plain": "(91335, 39)"
     },
     "execution_count": 2,
     "metadata": {},
     "output_type": "execute_result"
    }
   ],
   "source": [
    "import pandas as pd\n",
    "df = pd.read_csv(\"https://raw.githubusercontent.com/corazzon/boostcourse-ds-510/master/data/medical_201909.csv.zip\", low_memory=False)\n",
    "df.shape"
   ]
  },
  {
   "cell_type": "code",
   "execution_count": 3,
   "outputs": [
    {
     "name": "stdout",
     "output_type": "stream",
     "text": [
      "<class 'pandas.core.frame.DataFrame'>\n",
      "RangeIndex: 91335 entries, 0 to 91334\n",
      "Data columns (total 39 columns):\n",
      " #   Column     Non-Null Count  Dtype  \n",
      "---  ------     --------------  -----  \n",
      " 0   상가업소번호     91335 non-null  int64  \n",
      " 1   상호명        91335 non-null  object \n",
      " 2   지점명        1346 non-null   object \n",
      " 3   상권업종대분류코드  91335 non-null  object \n",
      " 4   상권업종대분류명   91335 non-null  object \n",
      " 5   상권업종중분류코드  91335 non-null  object \n",
      " 6   상권업종중분류명   91335 non-null  object \n",
      " 7   상권업종소분류코드  91335 non-null  object \n",
      " 8   상권업종소분류명   91335 non-null  object \n",
      " 9   표준산업분류코드   86413 non-null  object \n",
      " 10  표준산업분류명    86413 non-null  object \n",
      " 11  시도코드       90956 non-null  float64\n",
      " 12  시도명        90956 non-null  object \n",
      " 13  시군구코드      90956 non-null  float64\n",
      " 14  시군구명       90956 non-null  object \n",
      " 15  행정동코드      91335 non-null  int64  \n",
      " 16  행정동명       90956 non-null  object \n",
      " 17  법정동코드      91280 non-null  float64\n",
      " 18  법정동명       91280 non-null  object \n",
      " 19  지번코드       91335 non-null  int64  \n",
      " 20  대지구분코드     91335 non-null  int64  \n",
      " 21  대지구분명      91335 non-null  object \n",
      " 22  지번본번지      91335 non-null  int64  \n",
      " 23  지번부번지      72079 non-null  float64\n",
      " 24  지번주소       91335 non-null  object \n",
      " 25  도로명코드      91335 non-null  int64  \n",
      " 26  도로명        91335 non-null  object \n",
      " 27  건물본번지      91335 non-null  int64  \n",
      " 28  건물부번지      10604 non-null  float64\n",
      " 29  건물관리번호     91335 non-null  object \n",
      " 30  건물명        46453 non-null  object \n",
      " 31  도로명주소      91335 non-null  object \n",
      " 32  구우편번호      91323 non-null  float64\n",
      " 33  신우편번호      91333 non-null  float64\n",
      " 34  동정보        7406 non-null   object \n",
      " 35  층정보        44044 non-null  object \n",
      " 36  호정보        15551 non-null  object \n",
      " 37  경도         91335 non-null  float64\n",
      " 38  위도         91335 non-null  float64\n",
      "dtypes: float64(9), int64(7), object(23)\n",
      "memory usage: 27.2+ MB\n"
     ]
    }
   ],
   "source": [
    "df.info()"
   ],
   "metadata": {
    "collapsed": false,
    "pycharm": {
     "name": "#%%\n"
    }
   }
  },
  {
   "cell_type": "code",
   "execution_count": 4,
   "outputs": [
    {
     "data": {
      "text/plain": "     상가업소번호        상호명  지점명 상권업종대분류코드 상권업종대분류명 상권업종중분류코드 상권업종중분류명 상권업종소분류코드  \\\n0  19956873     하나산부인과  NaN         S       의료       S01       병원    S01B10   \n1  20024149   타워광명내과의원  NaN         S       의료       S01       병원    S01B07   \n2  20152277  조정현신경외과의원  NaN         S       의료       S01       병원    S01B15   \n3  20350610   한귀원정신과의원  NaN         S       의료       S01       병원    S01B99   \n4  20364049  더블유스토어수지점  수지점         S       의료       S02   약국/한약방    S02A01   \n\n  상권업종소분류명 표준산업분류코드  ...                     건물관리번호      건물명  \\\n0     산부인과   Q86201  ...  4127310900110810000010857  산호한양아파트   \n1    내과/외과   Q86201  ...  1168011800104670014000001      NaN   \n2     신경외과   Q86201  ...  4139013200117400001017064    한라프라자   \n3     기타병원      NaN  ...  2650010400100740001009932      NaN   \n4       약국   G47811  ...  4146510100107120002026238      NaN   \n\n                 도로명주소     구우편번호    신우편번호  동정보  층정보  호정보          경도  \\\n0   경기도 안산시 단원구 달미로 10  425764.0  15236.0  NaN  NaN  NaN  126.814295   \n1  서울특별시 강남구 언주로30길 39  135270.0   6292.0  NaN    4  NaN  127.053198   \n2    경기도 시흥시 중심상가로 178  429450.0  15066.0  NaN  NaN  NaN  126.734841   \n3    부산광역시 수영구 수영로 688  613100.0  48266.0  NaN    5  NaN  129.115438   \n4   경기도 용인시 수지구 문정로 32  448170.0  16837.0  NaN    1  NaN  127.095522   \n\n          위도  \n0  37.336344  \n1  37.488742  \n2  37.344955  \n3  35.166872  \n4  37.323528  \n\n[5 rows x 39 columns]",
      "text/html": "<div>\n<style scoped>\n    .dataframe tbody tr th:only-of-type {\n        vertical-align: middle;\n    }\n\n    .dataframe tbody tr th {\n        vertical-align: top;\n    }\n\n    .dataframe thead th {\n        text-align: right;\n    }\n</style>\n<table border=\"1\" class=\"dataframe\">\n  <thead>\n    <tr style=\"text-align: right;\">\n      <th></th>\n      <th>상가업소번호</th>\n      <th>상호명</th>\n      <th>지점명</th>\n      <th>상권업종대분류코드</th>\n      <th>상권업종대분류명</th>\n      <th>상권업종중분류코드</th>\n      <th>상권업종중분류명</th>\n      <th>상권업종소분류코드</th>\n      <th>상권업종소분류명</th>\n      <th>표준산업분류코드</th>\n      <th>...</th>\n      <th>건물관리번호</th>\n      <th>건물명</th>\n      <th>도로명주소</th>\n      <th>구우편번호</th>\n      <th>신우편번호</th>\n      <th>동정보</th>\n      <th>층정보</th>\n      <th>호정보</th>\n      <th>경도</th>\n      <th>위도</th>\n    </tr>\n  </thead>\n  <tbody>\n    <tr>\n      <th>0</th>\n      <td>19956873</td>\n      <td>하나산부인과</td>\n      <td>NaN</td>\n      <td>S</td>\n      <td>의료</td>\n      <td>S01</td>\n      <td>병원</td>\n      <td>S01B10</td>\n      <td>산부인과</td>\n      <td>Q86201</td>\n      <td>...</td>\n      <td>4127310900110810000010857</td>\n      <td>산호한양아파트</td>\n      <td>경기도 안산시 단원구 달미로 10</td>\n      <td>425764.0</td>\n      <td>15236.0</td>\n      <td>NaN</td>\n      <td>NaN</td>\n      <td>NaN</td>\n      <td>126.814295</td>\n      <td>37.336344</td>\n    </tr>\n    <tr>\n      <th>1</th>\n      <td>20024149</td>\n      <td>타워광명내과의원</td>\n      <td>NaN</td>\n      <td>S</td>\n      <td>의료</td>\n      <td>S01</td>\n      <td>병원</td>\n      <td>S01B07</td>\n      <td>내과/외과</td>\n      <td>Q86201</td>\n      <td>...</td>\n      <td>1168011800104670014000001</td>\n      <td>NaN</td>\n      <td>서울특별시 강남구 언주로30길 39</td>\n      <td>135270.0</td>\n      <td>6292.0</td>\n      <td>NaN</td>\n      <td>4</td>\n      <td>NaN</td>\n      <td>127.053198</td>\n      <td>37.488742</td>\n    </tr>\n    <tr>\n      <th>2</th>\n      <td>20152277</td>\n      <td>조정현신경외과의원</td>\n      <td>NaN</td>\n      <td>S</td>\n      <td>의료</td>\n      <td>S01</td>\n      <td>병원</td>\n      <td>S01B15</td>\n      <td>신경외과</td>\n      <td>Q86201</td>\n      <td>...</td>\n      <td>4139013200117400001017064</td>\n      <td>한라프라자</td>\n      <td>경기도 시흥시 중심상가로 178</td>\n      <td>429450.0</td>\n      <td>15066.0</td>\n      <td>NaN</td>\n      <td>NaN</td>\n      <td>NaN</td>\n      <td>126.734841</td>\n      <td>37.344955</td>\n    </tr>\n    <tr>\n      <th>3</th>\n      <td>20350610</td>\n      <td>한귀원정신과의원</td>\n      <td>NaN</td>\n      <td>S</td>\n      <td>의료</td>\n      <td>S01</td>\n      <td>병원</td>\n      <td>S01B99</td>\n      <td>기타병원</td>\n      <td>NaN</td>\n      <td>...</td>\n      <td>2650010400100740001009932</td>\n      <td>NaN</td>\n      <td>부산광역시 수영구 수영로 688</td>\n      <td>613100.0</td>\n      <td>48266.0</td>\n      <td>NaN</td>\n      <td>5</td>\n      <td>NaN</td>\n      <td>129.115438</td>\n      <td>35.166872</td>\n    </tr>\n    <tr>\n      <th>4</th>\n      <td>20364049</td>\n      <td>더블유스토어수지점</td>\n      <td>수지점</td>\n      <td>S</td>\n      <td>의료</td>\n      <td>S02</td>\n      <td>약국/한약방</td>\n      <td>S02A01</td>\n      <td>약국</td>\n      <td>G47811</td>\n      <td>...</td>\n      <td>4146510100107120002026238</td>\n      <td>NaN</td>\n      <td>경기도 용인시 수지구 문정로 32</td>\n      <td>448170.0</td>\n      <td>16837.0</td>\n      <td>NaN</td>\n      <td>1</td>\n      <td>NaN</td>\n      <td>127.095522</td>\n      <td>37.323528</td>\n    </tr>\n  </tbody>\n</table>\n<p>5 rows × 39 columns</p>\n</div>"
     },
     "execution_count": 4,
     "metadata": {},
     "output_type": "execute_result"
    }
   ],
   "source": [
    "df.head() # 전체 데이터를 가지고 오는 것이 아닌 상위 5개만 가지고 오는 것"
   ],
   "metadata": {
    "collapsed": false,
    "pycharm": {
     "name": "#%%\n"
    }
   }
  },
  {
   "cell_type": "code",
   "execution_count": 6,
   "outputs": [],
   "source": [
    "col8 = df[\"상권업종소분류명\"]"
   ],
   "metadata": {
    "collapsed": false,
    "pycharm": {
     "name": "#%%\n"
    }
   }
  },
  {
   "cell_type": "code",
   "execution_count": 7,
   "outputs": [
    {
     "data": {
      "text/plain": "array(['산부인과', '내과/외과', '신경외과', '기타병원', '약국', '동물병원', '한약방', '탕제원',\n       '정형/성형외과', '소아과', '이비인후과의원', '노인/치매병원', '언어치료', '수의업-종합', '한의원',\n       '치과의원', '침구원', '일반병원', '안과의원', '조산원', '한방병원', '종합병원', '유사의료업기타',\n       '응급구조대', '혈액원', '치과병원', '척추교정치료', '피부과', '비뇨기과', '치과기공소', '산후조리원',\n       '접골원', '수의업-기타', '제대혈'], dtype=object)"
     },
     "execution_count": 7,
     "metadata": {},
     "output_type": "execute_result"
    }
   ],
   "source": [
    "col8.unique()"
   ],
   "metadata": {
    "collapsed": false,
    "pycharm": {
     "name": "#%%\n"
    }
   }
  },
  {
   "cell_type": "code",
   "execution_count": 12,
   "outputs": [
    {
     "data": {
      "text/plain": "          상호명   지점명 상권업종대분류코드 상권업종대분류명 상권업종중분류코드 상권업종중분류명 상권업종소분류코드 상권업종소분류명  \\\ncount   91335  1346     91335    91335     91335    91335     91335    91335   \nunique  56910   858         1        1         5        5        34       34   \ntop        리원  장례식장         S       의료       S01       병원    S02A01       약국   \nfreq      152    97     91335    91335     60774    60774     18964    18964   \n\n       표준산업분류코드 표준산업분류명  ...   법정동명  대지구분명                  지번주소  \\\ncount     86413   86413  ...  91280  91335                 91335   \nunique       15      15  ...   2822      2                 53118   \ntop      Q86201   일반 의원  ...     중동     대지  서울특별시 동대문구 제기동 965-1   \nfreq      22555   22555  ...    874  91213                   198   \n\n                   도로명                     건물관리번호    건물명  \\\ncount            91335                      91335  46453   \nunique           16610                      54142  17946   \ntop     서울특별시 강남구 강남대로  1123010300109650001031604  현대아파트   \nfreq               326                        198    131   \n\n                        도로명주소   동정보    층정보    호정보  \ncount                   91335  7406  44044  15551  \nunique                  54031   556     74    849  \ntop     서울특별시 동대문구 약령중앙로8길 10     1      1      1  \nfreq                      198  1571  15994   1286  \n\n[4 rows x 23 columns]",
      "text/html": "<div>\n<style scoped>\n    .dataframe tbody tr th:only-of-type {\n        vertical-align: middle;\n    }\n\n    .dataframe tbody tr th {\n        vertical-align: top;\n    }\n\n    .dataframe thead th {\n        text-align: right;\n    }\n</style>\n<table border=\"1\" class=\"dataframe\">\n  <thead>\n    <tr style=\"text-align: right;\">\n      <th></th>\n      <th>상호명</th>\n      <th>지점명</th>\n      <th>상권업종대분류코드</th>\n      <th>상권업종대분류명</th>\n      <th>상권업종중분류코드</th>\n      <th>상권업종중분류명</th>\n      <th>상권업종소분류코드</th>\n      <th>상권업종소분류명</th>\n      <th>표준산업분류코드</th>\n      <th>표준산업분류명</th>\n      <th>...</th>\n      <th>법정동명</th>\n      <th>대지구분명</th>\n      <th>지번주소</th>\n      <th>도로명</th>\n      <th>건물관리번호</th>\n      <th>건물명</th>\n      <th>도로명주소</th>\n      <th>동정보</th>\n      <th>층정보</th>\n      <th>호정보</th>\n    </tr>\n  </thead>\n  <tbody>\n    <tr>\n      <th>count</th>\n      <td>91335</td>\n      <td>1346</td>\n      <td>91335</td>\n      <td>91335</td>\n      <td>91335</td>\n      <td>91335</td>\n      <td>91335</td>\n      <td>91335</td>\n      <td>86413</td>\n      <td>86413</td>\n      <td>...</td>\n      <td>91280</td>\n      <td>91335</td>\n      <td>91335</td>\n      <td>91335</td>\n      <td>91335</td>\n      <td>46453</td>\n      <td>91335</td>\n      <td>7406</td>\n      <td>44044</td>\n      <td>15551</td>\n    </tr>\n    <tr>\n      <th>unique</th>\n      <td>56910</td>\n      <td>858</td>\n      <td>1</td>\n      <td>1</td>\n      <td>5</td>\n      <td>5</td>\n      <td>34</td>\n      <td>34</td>\n      <td>15</td>\n      <td>15</td>\n      <td>...</td>\n      <td>2822</td>\n      <td>2</td>\n      <td>53118</td>\n      <td>16610</td>\n      <td>54142</td>\n      <td>17946</td>\n      <td>54031</td>\n      <td>556</td>\n      <td>74</td>\n      <td>849</td>\n    </tr>\n    <tr>\n      <th>top</th>\n      <td>리원</td>\n      <td>장례식장</td>\n      <td>S</td>\n      <td>의료</td>\n      <td>S01</td>\n      <td>병원</td>\n      <td>S02A01</td>\n      <td>약국</td>\n      <td>Q86201</td>\n      <td>일반 의원</td>\n      <td>...</td>\n      <td>중동</td>\n      <td>대지</td>\n      <td>서울특별시 동대문구 제기동 965-1</td>\n      <td>서울특별시 강남구 강남대로</td>\n      <td>1123010300109650001031604</td>\n      <td>현대아파트</td>\n      <td>서울특별시 동대문구 약령중앙로8길 10</td>\n      <td>1</td>\n      <td>1</td>\n      <td>1</td>\n    </tr>\n    <tr>\n      <th>freq</th>\n      <td>152</td>\n      <td>97</td>\n      <td>91335</td>\n      <td>91335</td>\n      <td>60774</td>\n      <td>60774</td>\n      <td>18964</td>\n      <td>18964</td>\n      <td>22555</td>\n      <td>22555</td>\n      <td>...</td>\n      <td>874</td>\n      <td>91213</td>\n      <td>198</td>\n      <td>326</td>\n      <td>198</td>\n      <td>131</td>\n      <td>198</td>\n      <td>1571</td>\n      <td>15994</td>\n      <td>1286</td>\n    </tr>\n  </tbody>\n</table>\n<p>4 rows × 23 columns</p>\n</div>"
     },
     "execution_count": 12,
     "metadata": {},
     "output_type": "execute_result"
    }
   ],
   "source": [
    "df.describe(include = \"object\")"
   ],
   "metadata": {
    "collapsed": false,
    "pycharm": {
     "name": "#%%\n"
    }
   }
  },
  {
   "cell_type": "code",
   "execution_count": 19,
   "outputs": [
    {
     "data": {
      "text/plain": "경기도        4510\n서울특별시      3579\n부산광역시      1130\n경상남도       1017\n인천광역시      1002\n경상북도        915\n대구광역시       870\n전라북도        862\n충청남도        830\n전라남도        811\n강원도         729\n광주광역시       691\n충청북도        648\n대전광역시       603\n울산광역시       362\n제주특별자치도     226\n세종특별자치시      99\nName: 시도명, dtype: int64"
     },
     "execution_count": 19,
     "metadata": {},
     "output_type": "execute_result"
    }
   ],
   "source": [
    "df2= df[df[\"상권업종소분류명\"] == '약국']\n",
    "df2\n",
    "df2[\"시도명\"].value_counts()"
   ],
   "metadata": {
    "collapsed": false,
    "pycharm": {
     "name": "#%%\n"
    }
   }
  },
  {
   "cell_type": "code",
   "execution_count": 20,
   "outputs": [],
   "source": [
    "import seaborn as sns # seaborn 에는 pie chart가 없다. 개발자가 네버 인지과학자인데 여러개로 나누어 빈도수 확인 하기 힘들다.\n"
   ],
   "metadata": {
    "collapsed": false,
    "pycharm": {
     "name": "#%%\n"
    }
   }
  },
  {
   "cell_type": "code",
   "execution_count": 21,
   "outputs": [
    {
     "data": {
      "text/plain": "' 데이터 시각화 전문가들은 pie chart 사용하지 않는다. bar chart 로 사용하기를 권장한다.'"
     },
     "execution_count": 21,
     "metadata": {},
     "output_type": "execute_result"
    }
   ],
   "source": [
    "''' 데이터 시각화 전문가들은 pie chart 사용하지 않는다. bar chart 로 사용하기를 권장한다.'''"
   ],
   "metadata": {
    "collapsed": false,
    "pycharm": {
     "name": "#%%\n"
    }
   }
  },
  {
   "cell_type": "code",
   "execution_count": 22,
   "outputs": [
    {
     "data": {
      "text/plain": "array(['병원', '약국/한약방', '수의업', '유사의료업', '의료관련서비스업'], dtype=object)"
     },
     "execution_count": 22,
     "metadata": {},
     "output_type": "execute_result"
    }
   ],
   "source": [
    "col6=df[\"상권업종중분류명\"]\n",
    "col6.unique()"
   ],
   "metadata": {
    "collapsed": false,
    "pycharm": {
     "name": "#%%\n"
    }
   }
  },
  {
   "cell_type": "code",
   "execution_count": 26,
   "outputs": [
    {
     "data": {
      "text/plain": "경기도        14101\n서울특별시      13406\n부산광역시       4601\n경상남도        3218\n인천광역시       3159\n대구광역시       3119\n경상북도        2603\n전라북도        2497\n충청남도        2165\n광주광역시       2152\n대전광역시       2039\n전라남도        1992\n충청북도        1659\n강원도         1576\n울산광역시       1297\n제주특별자치도      721\n세종특별자치시      219\nName: 시도명, dtype: int64"
     },
     "execution_count": 26,
     "metadata": {},
     "output_type": "execute_result"
    }
   ],
   "source": [
    "df3=df[df[\"상권업종중분류명\"] ==  \"병원\"]\n",
    "df3[\"시도명\"].value_counts()"
   ],
   "metadata": {
    "collapsed": false,
    "pycharm": {
     "name": "#%%\n"
    }
   }
  },
  {
   "cell_type": "code",
   "execution_count": 27,
   "outputs": [
    {
     "data": {
      "text/plain": "경기도        992\n서울특별시      557\n인천광역시      193\n경상북도       165\n경상남도       161\n부산광역시      153\n충청남도       131\n대구광역시      119\n전라북도       111\n강원도         85\n대전광역시       77\n전라남도        77\n충청북도        75\n광주광역시       71\n울산광역시       61\n제주특별자치도     46\n세종특별자치시     13\nName: 시도명, dtype: int64"
     },
     "execution_count": 27,
     "metadata": {},
     "output_type": "execute_result"
    }
   ],
   "source": [
    "df4=df[df[\"상권업종소분류명\"] ==  \"동물병원\"]\n",
    "df4[\"시도명\"].value_counts()"
   ],
   "metadata": {
    "collapsed": false,
    "pycharm": {
     "name": "#%%\n"
    }
   }
  },
  {
   "cell_type": "code",
   "execution_count": 28,
   "outputs": [
    {
     "data": {
      "text/plain": "           시도명   시도명  시도명\n경기도      14101  4510  992\n서울특별시    13406  3579  557\n부산광역시     4601  1130  153\n경상남도      3218  1017  161\n인천광역시     3159  1002  193\n대구광역시     3119   870  119\n경상북도      2603   915  165\n전라북도      2497   862  111\n충청남도      2165   830  131\n광주광역시     2152   691   71\n대전광역시     2039   603   77\n전라남도      1992   811   77\n충청북도      1659   648   75\n강원도       1576   729   85\n울산광역시     1297   362   61\n제주특별자치도    721   226   46\n세종특별자치시    219    99   13",
      "text/html": "<div>\n<style scoped>\n    .dataframe tbody tr th:only-of-type {\n        vertical-align: middle;\n    }\n\n    .dataframe tbody tr th {\n        vertical-align: top;\n    }\n\n    .dataframe thead th {\n        text-align: right;\n    }\n</style>\n<table border=\"1\" class=\"dataframe\">\n  <thead>\n    <tr style=\"text-align: right;\">\n      <th></th>\n      <th>시도명</th>\n      <th>시도명</th>\n      <th>시도명</th>\n    </tr>\n  </thead>\n  <tbody>\n    <tr>\n      <th>경기도</th>\n      <td>14101</td>\n      <td>4510</td>\n      <td>992</td>\n    </tr>\n    <tr>\n      <th>서울특별시</th>\n      <td>13406</td>\n      <td>3579</td>\n      <td>557</td>\n    </tr>\n    <tr>\n      <th>부산광역시</th>\n      <td>4601</td>\n      <td>1130</td>\n      <td>153</td>\n    </tr>\n    <tr>\n      <th>경상남도</th>\n      <td>3218</td>\n      <td>1017</td>\n      <td>161</td>\n    </tr>\n    <tr>\n      <th>인천광역시</th>\n      <td>3159</td>\n      <td>1002</td>\n      <td>193</td>\n    </tr>\n    <tr>\n      <th>대구광역시</th>\n      <td>3119</td>\n      <td>870</td>\n      <td>119</td>\n    </tr>\n    <tr>\n      <th>경상북도</th>\n      <td>2603</td>\n      <td>915</td>\n      <td>165</td>\n    </tr>\n    <tr>\n      <th>전라북도</th>\n      <td>2497</td>\n      <td>862</td>\n      <td>111</td>\n    </tr>\n    <tr>\n      <th>충청남도</th>\n      <td>2165</td>\n      <td>830</td>\n      <td>131</td>\n    </tr>\n    <tr>\n      <th>광주광역시</th>\n      <td>2152</td>\n      <td>691</td>\n      <td>71</td>\n    </tr>\n    <tr>\n      <th>대전광역시</th>\n      <td>2039</td>\n      <td>603</td>\n      <td>77</td>\n    </tr>\n    <tr>\n      <th>전라남도</th>\n      <td>1992</td>\n      <td>811</td>\n      <td>77</td>\n    </tr>\n    <tr>\n      <th>충청북도</th>\n      <td>1659</td>\n      <td>648</td>\n      <td>75</td>\n    </tr>\n    <tr>\n      <th>강원도</th>\n      <td>1576</td>\n      <td>729</td>\n      <td>85</td>\n    </tr>\n    <tr>\n      <th>울산광역시</th>\n      <td>1297</td>\n      <td>362</td>\n      <td>61</td>\n    </tr>\n    <tr>\n      <th>제주특별자치도</th>\n      <td>721</td>\n      <td>226</td>\n      <td>46</td>\n    </tr>\n    <tr>\n      <th>세종특별자치시</th>\n      <td>219</td>\n      <td>99</td>\n      <td>13</td>\n    </tr>\n  </tbody>\n</table>\n</div>"
     },
     "execution_count": 28,
     "metadata": {},
     "output_type": "execute_result"
    }
   ],
   "source": [
    "val2=df2[\"시도명\"].value_counts()\n",
    "val3=df3[\"시도명\"].value_counts()\n",
    "val4=df4[\"시도명\"].value_counts()\n",
    "pd.concat([val3,val2, val4], axis=1)"
   ],
   "metadata": {
    "collapsed": false,
    "pycharm": {
     "name": "#%%\n"
    }
   }
  },
  {
   "cell_type": "code",
   "execution_count": 29,
   "outputs": [
    {
     "data": {
      "text/plain": "          병원    약국  동물병원\n경기도    14101  4510   992\n서울특별시  13406  3579   557\n부산광역시   4601  1130   153\n경상남도    3218  1017   161\n인천광역시   3159  1002   193",
      "text/html": "<div>\n<style scoped>\n    .dataframe tbody tr th:only-of-type {\n        vertical-align: middle;\n    }\n\n    .dataframe tbody tr th {\n        vertical-align: top;\n    }\n\n    .dataframe thead th {\n        text-align: right;\n    }\n</style>\n<table border=\"1\" class=\"dataframe\">\n  <thead>\n    <tr style=\"text-align: right;\">\n      <th></th>\n      <th>병원</th>\n      <th>약국</th>\n      <th>동물병원</th>\n    </tr>\n  </thead>\n  <tbody>\n    <tr>\n      <th>경기도</th>\n      <td>14101</td>\n      <td>4510</td>\n      <td>992</td>\n    </tr>\n    <tr>\n      <th>서울특별시</th>\n      <td>13406</td>\n      <td>3579</td>\n      <td>557</td>\n    </tr>\n    <tr>\n      <th>부산광역시</th>\n      <td>4601</td>\n      <td>1130</td>\n      <td>153</td>\n    </tr>\n    <tr>\n      <th>경상남도</th>\n      <td>3218</td>\n      <td>1017</td>\n      <td>161</td>\n    </tr>\n    <tr>\n      <th>인천광역시</th>\n      <td>3159</td>\n      <td>1002</td>\n      <td>193</td>\n    </tr>\n  </tbody>\n</table>\n</div>"
     },
     "execution_count": 29,
     "metadata": {},
     "output_type": "execute_result"
    }
   ],
   "source": [
    "tab1 = pd.concat([val3,val2, val4], axis=1)\n",
    "tab1.columns = ['병원', '약국', '동물병원']\n",
    "tab1.head()"
   ],
   "metadata": {
    "collapsed": false,
    "pycharm": {
     "name": "#%%\n"
    }
   }
  },
  {
   "cell_type": "code",
   "execution_count": 34,
   "outputs": [],
   "source": [
    "# 시각화 툴 seaborn 불러오기\n",
    "import matplotlib.pyplot as plt\n",
    "import seaborn as sns\n",
    "# seaborn 한글폰트 깨짐 해결\n",
    "sns.set(font=\"AppleGothic\")"
   ],
   "metadata": {
    "collapsed": false,
    "pycharm": {
     "name": "#%%\n"
    }
   }
  },
  {
   "cell_type": "code",
   "execution_count": 35,
   "outputs": [
    {
     "data": {
      "text/plain": "<AxesSubplot:>"
     },
     "execution_count": 35,
     "metadata": {},
     "output_type": "execute_result"
    },
    {
     "data": {
      "text/plain": "<Figure size 360x288 with 2 Axes>",
      "image/png": "[encoded data removed]"
     },
     "metadata": {},
     "output_type": "display_data"
    }
   ],
   "source": [
    "# heatmap으로 변수 간 상관관계 시각화하기\n",
    "colormap = plt.cm.PuBu\n",
    "plt.figure(figsize=(5, 4))\n",
    "sns.heatmap(tab1.astype(float).corr(), linewidths = 0.1, vmax = 1.0,\n",
    "           square = True, cmap = colormap, linecolor = \"white\", annot = True, annot_kws = {\"size\" : 16})"
   ],
   "metadata": {
    "collapsed": false,
    "pycharm": {
     "name": "#%%\n"
    }
   }
  },
  {
   "cell_type": "code",
   "execution_count": null,
   "outputs": [],
   "source": [],
   "metadata": {
    "collapsed": false,
    "pycharm": {
     "name": "#%%\n"
    }
   }
  }
 ],
 "metadata": {
  "kernelspec": {
   "display_name": "Python 3",
   "language": "python",
   "name": "python3"
  },
  "language_info": {
   "codemirror_mode": {
    "name": "ipython",
    "version": 2
   },
   "file_extension": ".py",
   "mimetype": "text/x-python",
   "name": "python",
   "nbconvert_exporter": "python",
   "pygments_lexer": "ipython2",
   "version": "2.7.6"
  }
 },
 "nbformat": 4,
 "nbformat_minor": 0
}