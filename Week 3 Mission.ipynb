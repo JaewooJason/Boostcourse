{
 "cells": [
  {
   "cell_type": "code",
   "execution_count": 1,
   "metadata": {
    "collapsed": true
   },
   "outputs": [
    {
     "name": "stdout",
     "output_type": "stream",
     "text": [
      "Requirement already satisfied: koreanize-matplotlib in /Users/choijaewoo/opt/anaconda3/lib/python3.9/site-packages (0.0.1)\r\n",
      "Requirement already satisfied: matplotlib in /Users/choijaewoo/opt/anaconda3/lib/python3.9/site-packages (from koreanize-matplotlib) (3.4.3)\r\n",
      "Requirement already satisfied: pyparsing>=2.2.1 in /Users/choijaewoo/opt/anaconda3/lib/python3.9/site-packages (from matplotlib->koreanize-matplotlib) (3.0.4)\r\n",
      "Requirement already satisfied: numpy>=1.16 in /Users/choijaewoo/opt/anaconda3/lib/python3.9/site-packages (from matplotlib->koreanize-matplotlib) (1.20.3)\r\n",
      "Requirement already satisfied: kiwisolver>=1.0.1 in /Users/choijaewoo/opt/anaconda3/lib/python3.9/site-packages (from matplotlib->koreanize-matplotlib) (1.3.1)\r\n",
      "Requirement already satisfied: pillow>=6.2.0 in /Users/choijaewoo/opt/anaconda3/lib/python3.9/site-packages (from matplotlib->koreanize-matplotlib) (8.4.0)\r\n",
      "Requirement already satisfied: cycler>=0.10 in /Users/choijaewoo/opt/anaconda3/lib/python3.9/site-packages (from matplotlib->koreanize-matplotlib) (0.10.0)\r\n",
      "Requirement already satisfied: python-dateutil>=2.7 in /Users/choijaewoo/opt/anaconda3/lib/python3.9/site-packages (from matplotlib->koreanize-matplotlib) (2.8.2)\r\n",
      "Requirement already satisfied: six in /Users/choijaewoo/opt/anaconda3/lib/python3.9/site-packages (from cycler>=0.10->matplotlib->koreanize-matplotlib) (1.16.0)\r\n"
     ]
    }
   ],
   "source": [
    "import pandas as pd\n",
    "import numpy as np\n",
    "import seaborn as sns\n",
    "import matplotlib.pyplot as plt\n",
    "!pip install koreanize-matplotlib\n",
    "import koreanize_matplotlib\n",
    "\n",
    "df = pd.read_csv(\"https://raw.githubusercontent.com/corazzon/boostcourse-ds-510/master/data/NHIS_OPEN_GJ_2017.CSV.zip\",\n",
    "                 encoding=\"cp949\")"
   ]
  },
  {
   "cell_type": "code",
   "execution_count": 2,
   "outputs": [
    {
     "name": "stdout",
     "output_type": "stream",
     "text": [
      "<class 'pandas.core.frame.DataFrame'>\n",
      "RangeIndex: 1000000 entries, 0 to 999999\n",
      "Data columns (total 34 columns):\n",
      " #   Column        Non-Null Count    Dtype  \n",
      "---  ------        --------------    -----  \n",
      " 0   기준년도          1000000 non-null  int64  \n",
      " 1   가입자일련번호       1000000 non-null  int64  \n",
      " 2   성별코드          1000000 non-null  int64  \n",
      " 3   연령대코드(5세단위)   1000000 non-null  int64  \n",
      " 4   시도코드          1000000 non-null  int64  \n",
      " 5   신장(5Cm단위)     999738 non-null   float64\n",
      " 6   체중(5Kg 단위)    999732 non-null   float64\n",
      " 7   허리둘레          999560 non-null   float64\n",
      " 8   시력(좌)         999712 non-null   float64\n",
      " 9   시력(우)         999721 non-null   float64\n",
      " 10  청력(좌)         999758 non-null   float64\n",
      " 11  청력(우)         999757 non-null   float64\n",
      " 12  수축기혈압         999924 non-null   float64\n",
      " 13  이완기혈압         999923 non-null   float64\n",
      " 14  식전혈당(공복혈당)    999957 non-null   float64\n",
      " 15  총콜레스테롤        999957 non-null   float64\n",
      " 16  트리글리세라이드      999957 non-null   float64\n",
      " 17  HDL콜레스테롤      999956 non-null   float64\n",
      " 18  LDL콜레스테롤      997101 non-null   float64\n",
      " 19  혈색소           999944 non-null   float64\n",
      " 20  요단백           995141 non-null   float64\n",
      " 21  혈청크레아티닌       999956 non-null   float64\n",
      " 22  (혈청지오티)AST    999958 non-null   float64\n",
      " 23  (혈청지오티)ALT    999956 non-null   float64\n",
      " 24  감마지티피         999955 non-null   float64\n",
      " 25  흡연상태          999840 non-null   float64\n",
      " 26  음주여부          999475 non-null   float64\n",
      " 27  구강검진 수검여부     1000000 non-null  int64  \n",
      " 28  치아우식증유무       0 non-null        float64\n",
      " 29  결손치유무         0 non-null        float64\n",
      " 30  치아마모증유무       0 non-null        float64\n",
      " 31  제3대구치(사랑니)이상  0 non-null        float64\n",
      " 32  치석            398748 non-null   float64\n",
      " 33  데이터공개일자       1000000 non-null  int64  \n",
      "dtypes: float64(27), int64(7)\n",
      "memory usage: 259.4 MB\n"
     ]
    }
   ],
   "source": [
    "df.info()"
   ],
   "metadata": {
    "collapsed": false,
    "pycharm": {
     "name": "#%%\n"
    }
   }
  },
  {
   "cell_type": "code",
   "execution_count": null,
   "outputs": [],
   "source": [],
   "metadata": {
    "collapsed": false,
    "pycharm": {
     "name": "#%%\n"
    }
   }
  },
  {
   "cell_type": "code",
   "execution_count": 3,
   "outputs": [
    {
     "data": {
      "text/plain": "   기준년도  가입자일련번호  성별코드  연령대코드(5세단위)  시도코드  신장(5Cm단위)  체중(5Kg 단위)  허리둘레  시력(좌)  \\\n0  2017        1     1           13    46      170.0        65.0  91.0    1.0   \n1  2017        2     2            8    41      150.0        45.0  73.4    1.2   \n2  2017        3     1            8    45      175.0        75.0  94.0    1.0   \n3  2017        4     2           12    11      155.0        55.0  67.5    0.9   \n4  2017        5     1            8    41      175.0        75.0  93.0    1.5   \n\n   시력(우)  ...  감마지티피  흡연상태  음주여부  구강검진 수검여부  치아우식증유무  결손치유무  치아마모증유무  \\\n0    1.2  ...   25.0   3.0   0.0          1      NaN    NaN      NaN   \n1    1.0  ...   10.0   1.0   0.0          1      NaN    NaN      NaN   \n2    0.8  ...  136.0   1.0   0.0          1      NaN    NaN      NaN   \n3    1.0  ...   30.0   1.0   1.0          0      NaN    NaN      NaN   \n4    1.5  ...   68.0   3.0   0.0          0      NaN    NaN      NaN   \n\n   제3대구치(사랑니)이상   치석   데이터공개일자  \n0           NaN  1.0  20181126  \n1           NaN  1.0  20181126  \n2           NaN  0.0  20181126  \n3           NaN  NaN  20181126  \n4           NaN  NaN  20181126  \n\n[5 rows x 34 columns]",
      "text/html": "<div>\n<style scoped>\n    .dataframe tbody tr th:only-of-type {\n        vertical-align: middle;\n    }\n\n    .dataframe tbody tr th {\n        vertical-align: top;\n    }\n\n    .dataframe thead th {\n        text-align: right;\n    }\n</style>\n<table border=\"1\" class=\"dataframe\">\n  <thead>\n    <tr style=\"text-align: right;\">\n      <th></th>\n      <th>기준년도</th>\n      <th>가입자일련번호</th>\n      <th>성별코드</th>\n      <th>연령대코드(5세단위)</th>\n      <th>시도코드</th>\n      <th>신장(5Cm단위)</th>\n      <th>체중(5Kg 단위)</th>\n      <th>허리둘레</th>\n      <th>시력(좌)</th>\n      <th>시력(우)</th>\n      <th>...</th>\n      <th>감마지티피</th>\n      <th>흡연상태</th>\n      <th>음주여부</th>\n      <th>구강검진 수검여부</th>\n      <th>치아우식증유무</th>\n      <th>결손치유무</th>\n      <th>치아마모증유무</th>\n      <th>제3대구치(사랑니)이상</th>\n      <th>치석</th>\n      <th>데이터공개일자</th>\n    </tr>\n  </thead>\n  <tbody>\n    <tr>\n      <th>0</th>\n      <td>2017</td>\n      <td>1</td>\n      <td>1</td>\n      <td>13</td>\n      <td>46</td>\n      <td>170.0</td>\n      <td>65.0</td>\n      <td>91.0</td>\n      <td>1.0</td>\n      <td>1.2</td>\n      <td>...</td>\n      <td>25.0</td>\n      <td>3.0</td>\n      <td>0.0</td>\n      <td>1</td>\n      <td>NaN</td>\n      <td>NaN</td>\n      <td>NaN</td>\n      <td>NaN</td>\n      <td>1.0</td>\n      <td>20181126</td>\n    </tr>\n    <tr>\n      <th>1</th>\n      <td>2017</td>\n      <td>2</td>\n      <td>2</td>\n      <td>8</td>\n      <td>41</td>\n      <td>150.0</td>\n      <td>45.0</td>\n      <td>73.4</td>\n      <td>1.2</td>\n      <td>1.0</td>\n      <td>...</td>\n      <td>10.0</td>\n      <td>1.0</td>\n      <td>0.0</td>\n      <td>1</td>\n      <td>NaN</td>\n      <td>NaN</td>\n      <td>NaN</td>\n      <td>NaN</td>\n      <td>1.0</td>\n      <td>20181126</td>\n    </tr>\n    <tr>\n      <th>2</th>\n      <td>2017</td>\n      <td>3</td>\n      <td>1</td>\n      <td>8</td>\n      <td>45</td>\n      <td>175.0</td>\n      <td>75.0</td>\n      <td>94.0</td>\n      <td>1.0</td>\n      <td>0.8</td>\n      <td>...</td>\n      <td>136.0</td>\n      <td>1.0</td>\n      <td>0.0</td>\n      <td>1</td>\n      <td>NaN</td>\n      <td>NaN</td>\n      <td>NaN</td>\n      <td>NaN</td>\n      <td>0.0</td>\n      <td>20181126</td>\n    </tr>\n    <tr>\n      <th>3</th>\n      <td>2017</td>\n      <td>4</td>\n      <td>2</td>\n      <td>12</td>\n      <td>11</td>\n      <td>155.0</td>\n      <td>55.0</td>\n      <td>67.5</td>\n      <td>0.9</td>\n      <td>1.0</td>\n      <td>...</td>\n      <td>30.0</td>\n      <td>1.0</td>\n      <td>1.0</td>\n      <td>0</td>\n      <td>NaN</td>\n      <td>NaN</td>\n      <td>NaN</td>\n      <td>NaN</td>\n      <td>NaN</td>\n      <td>20181126</td>\n    </tr>\n    <tr>\n      <th>4</th>\n      <td>2017</td>\n      <td>5</td>\n      <td>1</td>\n      <td>8</td>\n      <td>41</td>\n      <td>175.0</td>\n      <td>75.0</td>\n      <td>93.0</td>\n      <td>1.5</td>\n      <td>1.5</td>\n      <td>...</td>\n      <td>68.0</td>\n      <td>3.0</td>\n      <td>0.0</td>\n      <td>0</td>\n      <td>NaN</td>\n      <td>NaN</td>\n      <td>NaN</td>\n      <td>NaN</td>\n      <td>NaN</td>\n      <td>20181126</td>\n    </tr>\n  </tbody>\n</table>\n<p>5 rows × 34 columns</p>\n</div>"
     },
     "execution_count": 3,
     "metadata": {},
     "output_type": "execute_result"
    }
   ],
   "source": [
    "df.head()"
   ],
   "metadata": {
    "collapsed": false,
    "pycharm": {
     "name": "#%%\n"
    }
   }
  },
  {
   "cell_type": "code",
   "execution_count": 4,
   "outputs": [],
   "source": [
    "age_code = {1: '0~4세',\n",
    " 2: '5~9세',\n",
    " 3: '10~14세',\n",
    " 4: '15~19세',\n",
    " 5: '20~24세',\n",
    " 6: '25~29세',\n",
    " 7: '30~34세',\n",
    " 8: '35~39세',\n",
    " 9: '40~44세',\n",
    " 10: '45~49세',\n",
    " 11: '50~54세',\n",
    " 12: '55~59세',\n",
    " 13: '60~64세',\n",
    " 14: '65~69세',\n",
    " 15: '70~74세',\n",
    " 16: '75~79세',\n",
    " 17: '80~84세',\n",
    " 18: '85세+'}"
   ],
   "metadata": {
    "collapsed": false,
    "pycharm": {
     "name": "#%%\n"
    }
   }
  },
  {
   "cell_type": "code",
   "execution_count": 5,
   "outputs": [],
   "source": [
    "df['연령대코드(5세단위)'] = df['연령대코드(5세단위)'].replace(age_code)"
   ],
   "metadata": {
    "collapsed": false,
    "pycharm": {
     "name": "#%%\n"
    }
   }
  },
  {
   "cell_type": "code",
   "execution_count": 6,
   "outputs": [
    {
     "data": {
      "text/plain": "                count       mean        std   min   25%   50%   75%    max\n연령대코드(5세단위)                                                               \n20~24세        23244.0  75.152220  12.251781  47.5  67.5  73.4  81.0  999.0\n25~29세        64898.0  77.704783  16.735734  48.0  69.0  76.5  84.2  999.0\n30~34세        77517.0  81.089268  22.988111  49.0  72.0  80.1  88.0  999.0\n35~39세        84621.0  82.094012  14.522095   9.2  75.0  82.0  89.0  999.0\n40~44세       130912.0  80.488308  10.803098  42.1  73.0  80.0  87.0  999.0\n45~49세       118357.0  80.822449   9.521622  40.0  74.0  81.0  87.0  137.0\n50~54세       129833.0  81.062754   9.095438   6.5  75.0  81.0  87.0  142.0\n55~59세       112175.0  81.799905   8.730398  32.0  76.0  82.0  87.5  139.0\n60~64세       106491.0  82.722769   8.596176   0.0  77.0  83.0  88.0  137.0\n65~69세        53624.0  83.588500   8.443542  50.0  78.0  83.5  89.0  129.0\n70~74세        51586.0  84.063372   8.539639  51.0  78.0  84.0  90.0  129.8\n75~79세        25972.0  84.200127   8.772306  50.0  78.0  84.0  90.0  122.0\n80~84세        16205.0  83.751435   9.041091  38.0  78.0  84.0  90.0  120.0\n85세+           4125.0  81.736703  17.325969  34.0  75.0  81.5  88.0  999.0",
      "text/html": "<div>\n<style scoped>\n    .dataframe tbody tr th:only-of-type {\n        vertical-align: middle;\n    }\n\n    .dataframe tbody tr th {\n        vertical-align: top;\n    }\n\n    .dataframe thead th {\n        text-align: right;\n    }\n</style>\n<table border=\"1\" class=\"dataframe\">\n  <thead>\n    <tr style=\"text-align: right;\">\n      <th></th>\n      <th>count</th>\n      <th>mean</th>\n      <th>std</th>\n      <th>min</th>\n      <th>25%</th>\n      <th>50%</th>\n      <th>75%</th>\n      <th>max</th>\n    </tr>\n    <tr>\n      <th>연령대코드(5세단위)</th>\n      <th></th>\n      <th></th>\n      <th></th>\n      <th></th>\n      <th></th>\n      <th></th>\n      <th></th>\n      <th></th>\n    </tr>\n  </thead>\n  <tbody>\n    <tr>\n      <th>20~24세</th>\n      <td>23244.0</td>\n      <td>75.152220</td>\n      <td>12.251781</td>\n      <td>47.5</td>\n      <td>67.5</td>\n      <td>73.4</td>\n      <td>81.0</td>\n      <td>999.0</td>\n    </tr>\n    <tr>\n      <th>25~29세</th>\n      <td>64898.0</td>\n      <td>77.704783</td>\n      <td>16.735734</td>\n      <td>48.0</td>\n      <td>69.0</td>\n      <td>76.5</td>\n      <td>84.2</td>\n      <td>999.0</td>\n    </tr>\n    <tr>\n      <th>30~34세</th>\n      <td>77517.0</td>\n      <td>81.089268</td>\n      <td>22.988111</td>\n      <td>49.0</td>\n      <td>72.0</td>\n      <td>80.1</td>\n      <td>88.0</td>\n      <td>999.0</td>\n    </tr>\n    <tr>\n      <th>35~39세</th>\n      <td>84621.0</td>\n      <td>82.094012</td>\n      <td>14.522095</td>\n      <td>9.2</td>\n      <td>75.0</td>\n      <td>82.0</td>\n      <td>89.0</td>\n      <td>999.0</td>\n    </tr>\n    <tr>\n      <th>40~44세</th>\n      <td>130912.0</td>\n      <td>80.488308</td>\n      <td>10.803098</td>\n      <td>42.1</td>\n      <td>73.0</td>\n      <td>80.0</td>\n      <td>87.0</td>\n      <td>999.0</td>\n    </tr>\n    <tr>\n      <th>45~49세</th>\n      <td>118357.0</td>\n      <td>80.822449</td>\n      <td>9.521622</td>\n      <td>40.0</td>\n      <td>74.0</td>\n      <td>81.0</td>\n      <td>87.0</td>\n      <td>137.0</td>\n    </tr>\n    <tr>\n      <th>50~54세</th>\n      <td>129833.0</td>\n      <td>81.062754</td>\n      <td>9.095438</td>\n      <td>6.5</td>\n      <td>75.0</td>\n      <td>81.0</td>\n      <td>87.0</td>\n      <td>142.0</td>\n    </tr>\n    <tr>\n      <th>55~59세</th>\n      <td>112175.0</td>\n      <td>81.799905</td>\n      <td>8.730398</td>\n      <td>32.0</td>\n      <td>76.0</td>\n      <td>82.0</td>\n      <td>87.5</td>\n      <td>139.0</td>\n    </tr>\n    <tr>\n      <th>60~64세</th>\n      <td>106491.0</td>\n      <td>82.722769</td>\n      <td>8.596176</td>\n      <td>0.0</td>\n      <td>77.0</td>\n      <td>83.0</td>\n      <td>88.0</td>\n      <td>137.0</td>\n    </tr>\n    <tr>\n      <th>65~69세</th>\n      <td>53624.0</td>\n      <td>83.588500</td>\n      <td>8.443542</td>\n      <td>50.0</td>\n      <td>78.0</td>\n      <td>83.5</td>\n      <td>89.0</td>\n      <td>129.0</td>\n    </tr>\n    <tr>\n      <th>70~74세</th>\n      <td>51586.0</td>\n      <td>84.063372</td>\n      <td>8.539639</td>\n      <td>51.0</td>\n      <td>78.0</td>\n      <td>84.0</td>\n      <td>90.0</td>\n      <td>129.8</td>\n    </tr>\n    <tr>\n      <th>75~79세</th>\n      <td>25972.0</td>\n      <td>84.200127</td>\n      <td>8.772306</td>\n      <td>50.0</td>\n      <td>78.0</td>\n      <td>84.0</td>\n      <td>90.0</td>\n      <td>122.0</td>\n    </tr>\n    <tr>\n      <th>80~84세</th>\n      <td>16205.0</td>\n      <td>83.751435</td>\n      <td>9.041091</td>\n      <td>38.0</td>\n      <td>78.0</td>\n      <td>84.0</td>\n      <td>90.0</td>\n      <td>120.0</td>\n    </tr>\n    <tr>\n      <th>85세+</th>\n      <td>4125.0</td>\n      <td>81.736703</td>\n      <td>17.325969</td>\n      <td>34.0</td>\n      <td>75.0</td>\n      <td>81.5</td>\n      <td>88.0</td>\n      <td>999.0</td>\n    </tr>\n  </tbody>\n</table>\n</div>"
     },
     "execution_count": 6,
     "metadata": {},
     "output_type": "execute_result"
    }
   ],
   "source": [
    "df.groupby(['연령대코드(5세단위)'])['허리둘레'].describe()"
   ],
   "metadata": {
    "collapsed": false,
    "pycharm": {
     "name": "#%%\n"
    }
   }
  },
  {
   "cell_type": "code",
   "execution_count": 13,
   "outputs": [],
   "source": [
    "df = pd.read_csv(\"https://raw.githubusercontent.com/corazzon/boostcourse-ds-510/master/data/NHIS_OPEN_GJ_2017.CSV.zip\",\n",
    "                 encoding=\"cp949\")"
   ],
   "metadata": {
    "collapsed": false,
    "pycharm": {
     "name": "#%%\n"
    }
   }
  },
  {
   "cell_type": "code",
   "execution_count": 14,
   "outputs": [
    {
     "data": {
      "text/plain": "['음주여부', '흡연상태', '연령대코드(5세단위)', '성별코드']"
     },
     "execution_count": 14,
     "metadata": {},
     "output_type": "execute_result"
    }
   ],
   "source": [
    "columns = [\"음주여부\", \"흡연상태\", \"연령대코드(5세단위)\", \"성별코드\"]\n",
    "columns"
   ],
   "metadata": {
    "collapsed": false,
    "pycharm": {
     "name": "#%%\n"
    }
   }
  },
  {
   "cell_type": "code",
   "execution_count": 15,
   "outputs": [
    {
     "data": {
      "text/plain": "(1000, 34)"
     },
     "execution_count": 15,
     "metadata": {},
     "output_type": "execute_result"
    }
   ],
   "source": [
    "df_sample = df.sample(1000, random_state=1)\n",
    "df_sample.shape"
   ],
   "metadata": {
    "collapsed": false,
    "pycharm": {
     "name": "#%%\n"
    }
   }
  },
  {
   "cell_type": "code",
   "execution_count": 16,
   "outputs": [
    {
     "data": {
      "text/plain": "                 음주여부      흡연상태  연령대코드(5세단위)      성별코드\n음주여부         1.000000  0.365642    -0.277149 -0.350001\n흡연상태         0.365642  1.000000    -0.136350 -0.604199\n연령대코드(5세단위) -0.277149 -0.136350     1.000000  0.076229\n성별코드        -0.350001 -0.604199     0.076229  1.000000",
      "text/html": "<div>\n<style scoped>\n    .dataframe tbody tr th:only-of-type {\n        vertical-align: middle;\n    }\n\n    .dataframe tbody tr th {\n        vertical-align: top;\n    }\n\n    .dataframe thead th {\n        text-align: right;\n    }\n</style>\n<table border=\"1\" class=\"dataframe\">\n  <thead>\n    <tr style=\"text-align: right;\">\n      <th></th>\n      <th>음주여부</th>\n      <th>흡연상태</th>\n      <th>연령대코드(5세단위)</th>\n      <th>성별코드</th>\n    </tr>\n  </thead>\n  <tbody>\n    <tr>\n      <th>음주여부</th>\n      <td>1.000000</td>\n      <td>0.365642</td>\n      <td>-0.277149</td>\n      <td>-0.350001</td>\n    </tr>\n    <tr>\n      <th>흡연상태</th>\n      <td>0.365642</td>\n      <td>1.000000</td>\n      <td>-0.136350</td>\n      <td>-0.604199</td>\n    </tr>\n    <tr>\n      <th>연령대코드(5세단위)</th>\n      <td>-0.277149</td>\n      <td>-0.136350</td>\n      <td>1.000000</td>\n      <td>0.076229</td>\n    </tr>\n    <tr>\n      <th>성별코드</th>\n      <td>-0.350001</td>\n      <td>-0.604199</td>\n      <td>0.076229</td>\n      <td>1.000000</td>\n    </tr>\n  </tbody>\n</table>\n</div>"
     },
     "execution_count": 16,
     "metadata": {},
     "output_type": "execute_result"
    }
   ],
   "source": [
    "df_small = df_sample[columns]\n",
    "df_corr = df_small.corr()\n",
    "df_corr"
   ],
   "metadata": {
    "collapsed": false,
    "pycharm": {
     "name": "#%%\n"
    }
   }
  },
  {
   "cell_type": "code",
   "execution_count": 20,
   "outputs": [
    {
     "name": "stderr",
     "output_type": "stream",
     "text": [
      "/var/folders/qr/6jsz3w4516vdwmpnz67ktft00000gn/T/ipykernel_42357/2174653579.py:1: DeprecationWarning: `np.bool` is a deprecated alias for the builtin `bool`. To silence this warning, use `bool` by itself. Doing this will not modify any behavior and is safe. If you specifically wanted the numpy scalar type, use `np.bool_` here.\n",
      "Deprecated in NumPy 1.20; for more details and guidance: https://numpy.org/devdocs/release/1.20.0-notes.html#deprecations\n",
      "  mask = np.triu(np.ones_like(df_corr, dtype=np.bool))\n"
     ]
    },
    {
     "data": {
      "text/plain": "<AxesSubplot:>"
     },
     "execution_count": 20,
     "metadata": {},
     "output_type": "execute_result"
    },
    {
     "data": {
      "text/plain": "<Figure size 1440x504 with 2 Axes>",
      "image/png": "[encoded data removed]"
     },
     "metadata": {
      "needs_background": "light"
     },
     "output_type": "display_data"
    }
   ],
   "source": [
    "mask = np.triu(np.ones_like(df_corr, dtype=np.bool))\n",
    "plt.figure(figsize=(20,7))\n",
    "sns.heatmap(df_corr, annot=True, fmt=\".2f\", cmap=\"Blues\", mask = mask)"
   ],
   "metadata": {
    "collapsed": false,
    "pycharm": {
     "name": "#%%\n"
    }
   }
  },
  {
   "cell_type": "code",
   "execution_count": 24,
   "outputs": [
    {
     "data": {
      "text/plain": "   기준년도  가입자일련번호  성별코드  연령대코드(5세단위)  시도코드  신장(5Cm단위)  체중(5Kg 단위)  허리둘레  시력(좌)  \\\n0  2017        1     1           13    46      170.0        65.0  91.0    1.0   \n1  2017        2     2            8    41      150.0        45.0  73.4    1.2   \n2  2017        3     1            8    45      175.0        75.0  94.0    1.0   \n3  2017        4     2           12    11      155.0        55.0  67.5    0.9   \n4  2017        5     1            8    41      175.0        75.0  93.0    1.5   \n\n   시력(우)  ...  감마지티피  흡연상태  음주여부  구강검진 수검여부  치아우식증유무  결손치유무  치아마모증유무  \\\n0    1.2  ...   25.0   3.0   0.0          1      NaN    NaN      NaN   \n1    1.0  ...   10.0   1.0   0.0          1      NaN    NaN      NaN   \n2    0.8  ...  136.0   1.0   0.0          1      NaN    NaN      NaN   \n3    1.0  ...   30.0   1.0   1.0          0      NaN    NaN      NaN   \n4    1.5  ...   68.0   3.0   0.0          0      NaN    NaN      NaN   \n\n   제3대구치(사랑니)이상   치석   데이터공개일자  \n0           NaN  1.0  20181126  \n1           NaN  1.0  20181126  \n2           NaN  0.0  20181126  \n3           NaN  NaN  20181126  \n4           NaN  NaN  20181126  \n\n[5 rows x 34 columns]",
      "text/html": "<div>\n<style scoped>\n    .dataframe tbody tr th:only-of-type {\n        vertical-align: middle;\n    }\n\n    .dataframe tbody tr th {\n        vertical-align: top;\n    }\n\n    .dataframe thead th {\n        text-align: right;\n    }\n</style>\n<table border=\"1\" class=\"dataframe\">\n  <thead>\n    <tr style=\"text-align: right;\">\n      <th></th>\n      <th>기준년도</th>\n      <th>가입자일련번호</th>\n      <th>성별코드</th>\n      <th>연령대코드(5세단위)</th>\n      <th>시도코드</th>\n      <th>신장(5Cm단위)</th>\n      <th>체중(5Kg 단위)</th>\n      <th>허리둘레</th>\n      <th>시력(좌)</th>\n      <th>시력(우)</th>\n      <th>...</th>\n      <th>감마지티피</th>\n      <th>흡연상태</th>\n      <th>음주여부</th>\n      <th>구강검진 수검여부</th>\n      <th>치아우식증유무</th>\n      <th>결손치유무</th>\n      <th>치아마모증유무</th>\n      <th>제3대구치(사랑니)이상</th>\n      <th>치석</th>\n      <th>데이터공개일자</th>\n    </tr>\n  </thead>\n  <tbody>\n    <tr>\n      <th>0</th>\n      <td>2017</td>\n      <td>1</td>\n      <td>1</td>\n      <td>13</td>\n      <td>46</td>\n      <td>170.0</td>\n      <td>65.0</td>\n      <td>91.0</td>\n      <td>1.0</td>\n      <td>1.2</td>\n      <td>...</td>\n      <td>25.0</td>\n      <td>3.0</td>\n      <td>0.0</td>\n      <td>1</td>\n      <td>NaN</td>\n      <td>NaN</td>\n      <td>NaN</td>\n      <td>NaN</td>\n      <td>1.0</td>\n      <td>20181126</td>\n    </tr>\n    <tr>\n      <th>1</th>\n      <td>2017</td>\n      <td>2</td>\n      <td>2</td>\n      <td>8</td>\n      <td>41</td>\n      <td>150.0</td>\n      <td>45.0</td>\n      <td>73.4</td>\n      <td>1.2</td>\n      <td>1.0</td>\n      <td>...</td>\n      <td>10.0</td>\n      <td>1.0</td>\n      <td>0.0</td>\n      <td>1</td>\n      <td>NaN</td>\n      <td>NaN</td>\n      <td>NaN</td>\n      <td>NaN</td>\n      <td>1.0</td>\n      <td>20181126</td>\n    </tr>\n    <tr>\n      <th>2</th>\n      <td>2017</td>\n      <td>3</td>\n      <td>1</td>\n      <td>8</td>\n      <td>45</td>\n      <td>175.0</td>\n      <td>75.0</td>\n      <td>94.0</td>\n      <td>1.0</td>\n      <td>0.8</td>\n      <td>...</td>\n      <td>136.0</td>\n      <td>1.0</td>\n      <td>0.0</td>\n      <td>1</td>\n      <td>NaN</td>\n      <td>NaN</td>\n      <td>NaN</td>\n      <td>NaN</td>\n      <td>0.0</td>\n      <td>20181126</td>\n    </tr>\n    <tr>\n      <th>3</th>\n      <td>2017</td>\n      <td>4</td>\n      <td>2</td>\n      <td>12</td>\n      <td>11</td>\n      <td>155.0</td>\n      <td>55.0</td>\n      <td>67.5</td>\n      <td>0.9</td>\n      <td>1.0</td>\n      <td>...</td>\n      <td>30.0</td>\n      <td>1.0</td>\n      <td>1.0</td>\n      <td>0</td>\n      <td>NaN</td>\n      <td>NaN</td>\n      <td>NaN</td>\n      <td>NaN</td>\n      <td>NaN</td>\n      <td>20181126</td>\n    </tr>\n    <tr>\n      <th>4</th>\n      <td>2017</td>\n      <td>5</td>\n      <td>1</td>\n      <td>8</td>\n      <td>41</td>\n      <td>175.0</td>\n      <td>75.0</td>\n      <td>93.0</td>\n      <td>1.5</td>\n      <td>1.5</td>\n      <td>...</td>\n      <td>68.0</td>\n      <td>3.0</td>\n      <td>0.0</td>\n      <td>0</td>\n      <td>NaN</td>\n      <td>NaN</td>\n      <td>NaN</td>\n      <td>NaN</td>\n      <td>NaN</td>\n      <td>20181126</td>\n    </tr>\n  </tbody>\n</table>\n<p>5 rows × 34 columns</p>\n</div>"
     },
     "execution_count": 24,
     "metadata": {},
     "output_type": "execute_result"
    }
   ],
   "source": [
    "df.head()"
   ],
   "metadata": {
    "collapsed": false,
    "pycharm": {
     "name": "#%%\n"
    }
   }
  },
  {
   "cell_type": "code",
   "execution_count": 57,
   "outputs": [],
   "source": [
    "smoke = {1 : \"흡연안함\", 2: \"끊음\", 3: \"흡연중\"}\n",
    "drink = {0: \"안마심\", 1: \"마심\"}"
   ],
   "metadata": {
    "collapsed": false,
    "pycharm": {
     "name": "#%%\n"
    }
   }
  },
  {
   "cell_type": "code",
   "execution_count": 58,
   "outputs": [],
   "source": [
    "df[\"흡연상태\"]= df[\"흡연상태\"].replace(smoke)"
   ],
   "metadata": {
    "collapsed": false,
    "pycharm": {
     "name": "#%%\n"
    }
   }
  },
  {
   "cell_type": "code",
   "execution_count": 59,
   "outputs": [],
   "source": [
    "df[\"음주여부\"]= df[\"음주여부\"].replace(drink)"
   ],
   "metadata": {
    "collapsed": false,
    "pycharm": {
     "name": "#%%\n"
    }
   }
  },
  {
   "cell_type": "code",
   "execution_count": 60,
   "outputs": [],
   "source": [
    "df3 = pd.crosstab(df[\"음주여부\"], df[\"흡연상태\"], dropna=False)"
   ],
   "metadata": {
    "collapsed": false,
    "pycharm": {
     "name": "#%%\n"
    }
   }
  },
  {
   "cell_type": "code",
   "execution_count": 61,
   "outputs": [
    {
     "data": {
      "text/plain": "<AxesSubplot:xlabel='흡연상태', ylabel='count'>"
     },
     "execution_count": 61,
     "metadata": {},
     "output_type": "execute_result"
    },
    {
     "data": {
      "text/plain": "<Figure size 432x288 with 1 Axes>",
      "image/png": "[encoded data removed]"
     },
     "metadata": {
      "needs_background": "light"
     },
     "output_type": "display_data"
    }
   ],
   "source": [
    "sns.countplot(x=df[\"흡연상태\"], data=df3, hue=df[\"음주여부\"])"
   ],
   "metadata": {
    "collapsed": false,
    "pycharm": {
     "name": "#%%\n"
    }
   }
  },
  {
   "cell_type": "code",
   "execution_count": 74,
   "outputs": [
    {
     "ename": "KeyError",
     "evalue": "'체중(5Kg 단위))'",
     "output_type": "error",
     "traceback": [
      "\u001B[0;31m---------------------------------------------------------------------------\u001B[0m",
      "\u001B[0;31mKeyError\u001B[0m                                  Traceback (most recent call last)",
      "\u001B[0;32m~/opt/anaconda3/lib/python3.9/site-packages/pandas/core/indexes/base.py\u001B[0m in \u001B[0;36mget_loc\u001B[0;34m(self, key, method, tolerance)\u001B[0m\n\u001B[1;32m   3360\u001B[0m             \u001B[0;32mtry\u001B[0m\u001B[0;34m:\u001B[0m\u001B[0;34m\u001B[0m\u001B[0;34m\u001B[0m\u001B[0m\n\u001B[0;32m-> 3361\u001B[0;31m                 \u001B[0;32mreturn\u001B[0m \u001B[0mself\u001B[0m\u001B[0;34m.\u001B[0m\u001B[0m_engine\u001B[0m\u001B[0;34m.\u001B[0m\u001B[0mget_loc\u001B[0m\u001B[0;34m(\u001B[0m\u001B[0mcasted_key\u001B[0m\u001B[0;34m)\u001B[0m\u001B[0;34m\u001B[0m\u001B[0;34m\u001B[0m\u001B[0m\n\u001B[0m\u001B[1;32m   3362\u001B[0m             \u001B[0;32mexcept\u001B[0m \u001B[0mKeyError\u001B[0m \u001B[0;32mas\u001B[0m \u001B[0merr\u001B[0m\u001B[0;34m:\u001B[0m\u001B[0;34m\u001B[0m\u001B[0;34m\u001B[0m\u001B[0m\n",
      "\u001B[0;32m~/opt/anaconda3/lib/python3.9/site-packages/pandas/_libs/index.pyx\u001B[0m in \u001B[0;36mpandas._libs.index.IndexEngine.get_loc\u001B[0;34m()\u001B[0m\n",
      "\u001B[0;32m~/opt/anaconda3/lib/python3.9/site-packages/pandas/_libs/index.pyx\u001B[0m in \u001B[0;36mpandas._libs.index.IndexEngine.get_loc\u001B[0;34m()\u001B[0m\n",
      "\u001B[0;32mpandas/_libs/hashtable_class_helper.pxi\u001B[0m in \u001B[0;36mpandas._libs.hashtable.PyObjectHashTable.get_item\u001B[0;34m()\u001B[0m\n",
      "\u001B[0;32mpandas/_libs/hashtable_class_helper.pxi\u001B[0m in \u001B[0;36mpandas._libs.hashtable.PyObjectHashTable.get_item\u001B[0;34m()\u001B[0m\n",
      "\u001B[0;31mKeyError\u001B[0m: '체중(5Kg 단위))'",
      "\nThe above exception was the direct cause of the following exception:\n",
      "\u001B[0;31mKeyError\u001B[0m                                  Traceback (most recent call last)",
      "\u001B[0;32m/var/folders/qr/6jsz3w4516vdwmpnz67ktft00000gn/T/ipykernel_42357/816211656.py\u001B[0m in \u001B[0;36m<module>\u001B[0;34m\u001B[0m\n\u001B[0;32m----> 1\u001B[0;31m \u001B[0mdf\u001B[0m\u001B[0;34m[\u001B[0m\u001B[0;34m\"체중(5Kg 단위)\"\u001B[0m\u001B[0;34m]\u001B[0m \u001B[0;34m=\u001B[0m \u001B[0mdf\u001B[0m\u001B[0;34m[\u001B[0m\u001B[0;34m\"체중(5Kg 단위)\"\u001B[0m\u001B[0;34m]\u001B[0m\u001B[0;34m.\u001B[0m\u001B[0mloc\u001B[0m\u001B[0;34m[\u001B[0m\u001B[0mdf\u001B[0m\u001B[0;34m[\u001B[0m\u001B[0;34m\"체중(5Kg 단위))\"\u001B[0m\u001B[0;34m]\u001B[0m \u001B[0;34m>=\u001B[0m \u001B[0;36m120\u001B[0m\u001B[0;34m]\u001B[0m\u001B[0;34m\u001B[0m\u001B[0;34m\u001B[0m\u001B[0m\n\u001B[0m",
      "\u001B[0;32m~/opt/anaconda3/lib/python3.9/site-packages/pandas/core/frame.py\u001B[0m in \u001B[0;36m__getitem__\u001B[0;34m(self, key)\u001B[0m\n\u001B[1;32m   3456\u001B[0m             \u001B[0;32mif\u001B[0m \u001B[0mself\u001B[0m\u001B[0;34m.\u001B[0m\u001B[0mcolumns\u001B[0m\u001B[0;34m.\u001B[0m\u001B[0mnlevels\u001B[0m \u001B[0;34m>\u001B[0m \u001B[0;36m1\u001B[0m\u001B[0;34m:\u001B[0m\u001B[0;34m\u001B[0m\u001B[0;34m\u001B[0m\u001B[0m\n\u001B[1;32m   3457\u001B[0m                 \u001B[0;32mreturn\u001B[0m \u001B[0mself\u001B[0m\u001B[0;34m.\u001B[0m\u001B[0m_getitem_multilevel\u001B[0m\u001B[0;34m(\u001B[0m\u001B[0mkey\u001B[0m\u001B[0;34m)\u001B[0m\u001B[0;34m\u001B[0m\u001B[0;34m\u001B[0m\u001B[0m\n\u001B[0;32m-> 3458\u001B[0;31m             \u001B[0mindexer\u001B[0m \u001B[0;34m=\u001B[0m \u001B[0mself\u001B[0m\u001B[0;34m.\u001B[0m\u001B[0mcolumns\u001B[0m\u001B[0;34m.\u001B[0m\u001B[0mget_loc\u001B[0m\u001B[0;34m(\u001B[0m\u001B[0mkey\u001B[0m\u001B[0;34m)\u001B[0m\u001B[0;34m\u001B[0m\u001B[0;34m\u001B[0m\u001B[0m\n\u001B[0m\u001B[1;32m   3459\u001B[0m             \u001B[0;32mif\u001B[0m \u001B[0mis_integer\u001B[0m\u001B[0;34m(\u001B[0m\u001B[0mindexer\u001B[0m\u001B[0;34m)\u001B[0m\u001B[0;34m:\u001B[0m\u001B[0;34m\u001B[0m\u001B[0;34m\u001B[0m\u001B[0m\n\u001B[1;32m   3460\u001B[0m                 \u001B[0mindexer\u001B[0m \u001B[0;34m=\u001B[0m \u001B[0;34m[\u001B[0m\u001B[0mindexer\u001B[0m\u001B[0;34m]\u001B[0m\u001B[0;34m\u001B[0m\u001B[0;34m\u001B[0m\u001B[0m\n",
      "\u001B[0;32m~/opt/anaconda3/lib/python3.9/site-packages/pandas/core/indexes/base.py\u001B[0m in \u001B[0;36mget_loc\u001B[0;34m(self, key, method, tolerance)\u001B[0m\n\u001B[1;32m   3361\u001B[0m                 \u001B[0;32mreturn\u001B[0m \u001B[0mself\u001B[0m\u001B[0;34m.\u001B[0m\u001B[0m_engine\u001B[0m\u001B[0;34m.\u001B[0m\u001B[0mget_loc\u001B[0m\u001B[0;34m(\u001B[0m\u001B[0mcasted_key\u001B[0m\u001B[0;34m)\u001B[0m\u001B[0;34m\u001B[0m\u001B[0;34m\u001B[0m\u001B[0m\n\u001B[1;32m   3362\u001B[0m             \u001B[0;32mexcept\u001B[0m \u001B[0mKeyError\u001B[0m \u001B[0;32mas\u001B[0m \u001B[0merr\u001B[0m\u001B[0;34m:\u001B[0m\u001B[0;34m\u001B[0m\u001B[0;34m\u001B[0m\u001B[0m\n\u001B[0;32m-> 3363\u001B[0;31m                 \u001B[0;32mraise\u001B[0m \u001B[0mKeyError\u001B[0m\u001B[0;34m(\u001B[0m\u001B[0mkey\u001B[0m\u001B[0;34m)\u001B[0m \u001B[0;32mfrom\u001B[0m \u001B[0merr\u001B[0m\u001B[0;34m\u001B[0m\u001B[0;34m\u001B[0m\u001B[0m\n\u001B[0m\u001B[1;32m   3364\u001B[0m \u001B[0;34m\u001B[0m\u001B[0m\n\u001B[1;32m   3365\u001B[0m         \u001B[0;32mif\u001B[0m \u001B[0mis_scalar\u001B[0m\u001B[0;34m(\u001B[0m\u001B[0mkey\u001B[0m\u001B[0;34m)\u001B[0m \u001B[0;32mand\u001B[0m \u001B[0misna\u001B[0m\u001B[0;34m(\u001B[0m\u001B[0mkey\u001B[0m\u001B[0;34m)\u001B[0m \u001B[0;32mand\u001B[0m \u001B[0;32mnot\u001B[0m \u001B[0mself\u001B[0m\u001B[0;34m.\u001B[0m\u001B[0mhasnans\u001B[0m\u001B[0;34m:\u001B[0m\u001B[0;34m\u001B[0m\u001B[0;34m\u001B[0m\u001B[0m\n",
      "\u001B[0;31mKeyError\u001B[0m: '체중(5Kg 단위))'"
     ]
    }
   ],
   "source": [
    "df[\"체중(5Kg 단위)\"] = df[\"체중(5Kg 단위)\"].loc[df[\"체중(5Kg 단위))\"] >= 120]"
   ],
   "metadata": {
    "collapsed": false,
    "pycharm": {
     "name": "#%%\n"
    }
   }
  },
  {
   "cell_type": "code",
   "execution_count": 73,
   "outputs": [
    {
     "data": {
      "text/plain": "<AxesSubplot:xlabel='총콜레스테롤', ylabel='감마지티피'>"
     },
     "execution_count": 73,
     "metadata": {},
     "output_type": "execute_result"
    },
    {
     "data": {
      "text/plain": "<Figure size 432x288 with 1 Axes>",
      "image/png": "[encoded data removed]"
     },
     "metadata": {
      "needs_background": "light"
     },
     "output_type": "display_data"
    }
   ],
   "source": [
    "sns.scatterplot(data = df_corr, x = df[\"총콜레스테롤\"], y = df[\"감마지티피\"], hue=df['음주여부'])"
   ],
   "metadata": {
    "collapsed": false,
    "pycharm": {
     "name": "#%%\n"
    }
   }
  },
  {
   "cell_type": "code",
   "execution_count": 79,
   "outputs": [
    {
     "data": {
      "text/plain": "        체중(5Kg 단위) 총콜레스테롤  감마지티피 음주여부  흡연상태\n0             65.0   True   25.0  안마심   흡연중\n1             45.0   True   10.0  안마심  흡연안함\n2             75.0   True  136.0  안마심  흡연안함\n3             55.0   True   30.0   마심  흡연안함\n4             75.0   True   68.0  안마심   흡연중\n...            ...    ...    ...  ...   ...\n999995        55.0   True   11.0   마심  흡연안함\n999996        50.0   True   11.0  안마심  흡연안함\n999997        50.0   True   12.0  안마심  흡연안함\n999998        70.0   True   35.0   마심    끊음\n999999        60.0   True   15.0  안마심  흡연안함\n\n[1000000 rows x 5 columns]",
      "text/html": "<div>\n<style scoped>\n    .dataframe tbody tr th:only-of-type {\n        vertical-align: middle;\n    }\n\n    .dataframe tbody tr th {\n        vertical-align: top;\n    }\n\n    .dataframe thead th {\n        text-align: right;\n    }\n</style>\n<table border=\"1\" class=\"dataframe\">\n  <thead>\n    <tr style=\"text-align: right;\">\n      <th></th>\n      <th>체중(5Kg 단위)</th>\n      <th>총콜레스테롤</th>\n      <th>감마지티피</th>\n      <th>음주여부</th>\n      <th>흡연상태</th>\n    </tr>\n  </thead>\n  <tbody>\n    <tr>\n      <th>0</th>\n      <td>65.0</td>\n      <td>True</td>\n      <td>25.0</td>\n      <td>안마심</td>\n      <td>흡연중</td>\n    </tr>\n    <tr>\n      <th>1</th>\n      <td>45.0</td>\n      <td>True</td>\n      <td>10.0</td>\n      <td>안마심</td>\n      <td>흡연안함</td>\n    </tr>\n    <tr>\n      <th>2</th>\n      <td>75.0</td>\n      <td>True</td>\n      <td>136.0</td>\n      <td>안마심</td>\n      <td>흡연안함</td>\n    </tr>\n    <tr>\n      <th>3</th>\n      <td>55.0</td>\n      <td>True</td>\n      <td>30.0</td>\n      <td>마심</td>\n      <td>흡연안함</td>\n    </tr>\n    <tr>\n      <th>4</th>\n      <td>75.0</td>\n      <td>True</td>\n      <td>68.0</td>\n      <td>안마심</td>\n      <td>흡연중</td>\n    </tr>\n    <tr>\n      <th>...</th>\n      <td>...</td>\n      <td>...</td>\n      <td>...</td>\n      <td>...</td>\n      <td>...</td>\n    </tr>\n    <tr>\n      <th>999995</th>\n      <td>55.0</td>\n      <td>True</td>\n      <td>11.0</td>\n      <td>마심</td>\n      <td>흡연안함</td>\n    </tr>\n    <tr>\n      <th>999996</th>\n      <td>50.0</td>\n      <td>True</td>\n      <td>11.0</td>\n      <td>안마심</td>\n      <td>흡연안함</td>\n    </tr>\n    <tr>\n      <th>999997</th>\n      <td>50.0</td>\n      <td>True</td>\n      <td>12.0</td>\n      <td>안마심</td>\n      <td>흡연안함</td>\n    </tr>\n    <tr>\n      <th>999998</th>\n      <td>70.0</td>\n      <td>True</td>\n      <td>35.0</td>\n      <td>마심</td>\n      <td>끊음</td>\n    </tr>\n    <tr>\n      <th>999999</th>\n      <td>60.0</td>\n      <td>True</td>\n      <td>15.0</td>\n      <td>안마심</td>\n      <td>흡연안함</td>\n    </tr>\n  </tbody>\n</table>\n<p>1000000 rows × 5 columns</p>\n</div>"
     },
     "execution_count": 79,
     "metadata": {},
     "output_type": "execute_result"
    }
   ],
   "source": [
    "df4 = df[[\"체중(5Kg 단위)\", \"총콜레스테롤\", \"감마지티피\", \"음주여부\", \"흡연상태\"]]\n",
    "df4"
   ],
   "metadata": {
    "collapsed": false,
    "pycharm": {
     "name": "#%%\n"
    }
   }
  },
  {
   "cell_type": "code",
   "execution_count": 91,
   "outputs": [
    {
     "data": {
      "text/plain": "        체중(5Kg 단위) 총콜레스테롤  감마지티피 음주여부  흡연상태\n1219         120.0   True   47.0  안마심   흡연중\n2309         155.0    NaN   19.0  안마심   흡연중\n3497         120.0   True  111.0   마심   흡연중\n3685         140.0   True   58.0  안마심    끊음\n5788         140.0   True   35.0  안마심  흡연안함\n...            ...    ...    ...  ...   ...\n996544       125.0   True   76.0   마심   흡연중\n996828       120.0   True   82.0   마심   흡연중\n997152       120.0   True  165.0  안마심  흡연안함\n997414       135.0   True   62.0  안마심   흡연중\n997486       125.0   True   95.0  안마심   흡연중\n\n[1181 rows x 5 columns]",
      "text/html": "<div>\n<style scoped>\n    .dataframe tbody tr th:only-of-type {\n        vertical-align: middle;\n    }\n\n    .dataframe tbody tr th {\n        vertical-align: top;\n    }\n\n    .dataframe thead th {\n        text-align: right;\n    }\n</style>\n<table border=\"1\" class=\"dataframe\">\n  <thead>\n    <tr style=\"text-align: right;\">\n      <th></th>\n      <th>체중(5Kg 단위)</th>\n      <th>총콜레스테롤</th>\n      <th>감마지티피</th>\n      <th>음주여부</th>\n      <th>흡연상태</th>\n    </tr>\n  </thead>\n  <tbody>\n    <tr>\n      <th>1219</th>\n      <td>120.0</td>\n      <td>True</td>\n      <td>47.0</td>\n      <td>안마심</td>\n      <td>흡연중</td>\n    </tr>\n    <tr>\n      <th>2309</th>\n      <td>155.0</td>\n      <td>NaN</td>\n      <td>19.0</td>\n      <td>안마심</td>\n      <td>흡연중</td>\n    </tr>\n    <tr>\n      <th>3497</th>\n      <td>120.0</td>\n      <td>True</td>\n      <td>111.0</td>\n      <td>마심</td>\n      <td>흡연중</td>\n    </tr>\n    <tr>\n      <th>3685</th>\n      <td>140.0</td>\n      <td>True</td>\n      <td>58.0</td>\n      <td>안마심</td>\n      <td>끊음</td>\n    </tr>\n    <tr>\n      <th>5788</th>\n      <td>140.0</td>\n      <td>True</td>\n      <td>35.0</td>\n      <td>안마심</td>\n      <td>흡연안함</td>\n    </tr>\n    <tr>\n      <th>...</th>\n      <td>...</td>\n      <td>...</td>\n      <td>...</td>\n      <td>...</td>\n      <td>...</td>\n    </tr>\n    <tr>\n      <th>996544</th>\n      <td>125.0</td>\n      <td>True</td>\n      <td>76.0</td>\n      <td>마심</td>\n      <td>흡연중</td>\n    </tr>\n    <tr>\n      <th>996828</th>\n      <td>120.0</td>\n      <td>True</td>\n      <td>82.0</td>\n      <td>마심</td>\n      <td>흡연중</td>\n    </tr>\n    <tr>\n      <th>997152</th>\n      <td>120.0</td>\n      <td>True</td>\n      <td>165.0</td>\n      <td>안마심</td>\n      <td>흡연안함</td>\n    </tr>\n    <tr>\n      <th>997414</th>\n      <td>135.0</td>\n      <td>True</td>\n      <td>62.0</td>\n      <td>안마심</td>\n      <td>흡연중</td>\n    </tr>\n    <tr>\n      <th>997486</th>\n      <td>125.0</td>\n      <td>True</td>\n      <td>95.0</td>\n      <td>안마심</td>\n      <td>흡연중</td>\n    </tr>\n  </tbody>\n</table>\n<p>1181 rows × 5 columns</p>\n</div>"
     },
     "execution_count": 91,
     "metadata": {},
     "output_type": "execute_result"
    }
   ],
   "source": [
    "df4 = df4.loc[df4[\"체중(5Kg 단위)\"] >= 120]\n",
    "df4"
   ],
   "metadata": {
    "collapsed": false,
    "pycharm": {
     "name": "#%%\n"
    }
   }
  },
  {
   "cell_type": "code",
   "execution_count": 97,
   "outputs": [
    {
     "data": {
      "text/plain": "<AxesSubplot:xlabel='총콜레스테롤', ylabel='감마지티피'>"
     },
     "execution_count": 97,
     "metadata": {},
     "output_type": "execute_result"
    },
    {
     "data": {
      "text/plain": "<Figure size 432x288 with 1 Axes>",
      "image/png": "[encoded data removed]"
     },
     "metadata": {
      "needs_background": "light"
     },
     "output_type": "display_data"
    }
   ],
   "source": [
    "sns.scatterplot(data = df4, x = \"총콜레스테롤\", y = \"감마지티피\", hue='음주여부', size='흡연상태')"
   ],
   "metadata": {
    "collapsed": false,
    "pycharm": {
     "name": "#%%\n"
    }
   }
  },
  {
   "cell_type": "code",
   "execution_count": null,
   "outputs": [],
   "source": [],
   "metadata": {
    "collapsed": false,
    "pycharm": {
     "name": "#%%\n"
    }
   }
  },
  {
   "cell_type": "code",
   "execution_count": null,
   "outputs": [],
   "source": [],
   "metadata": {
    "collapsed": false,
    "pycharm": {
     "name": "#%%\n"
    }
   }
  },
  {
   "cell_type": "code",
   "execution_count": null,
   "outputs": [],
   "source": [],
   "metadata": {
    "collapsed": false,
    "pycharm": {
     "name": "#%%\n"
    }
   }
  }
 ],
 "metadata": {
  "kernelspec": {
   "display_name": "Python 3",
   "language": "python",
   "name": "python3"
  },
  "language_info": {
   "codemirror_mode": {
    "name": "ipython",
    "version": 2
   },
   "file_extension": ".py",
   "mimetype": "text/x-python",
   "name": "python",
   "nbconvert_exporter": "python",
   "pygments_lexer": "ipython2",
   "version": "2.7.6"
  }
 },
 "nbformat": 4,
 "nbformat_minor": 0
}