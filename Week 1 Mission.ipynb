{
 "cells": [
  {
   "cell_type": "code",
   "execution_count": 2,
   "metadata": {
    "collapsed": true
   },
   "outputs": [
    {
     "name": "stdout",
     "output_type": "stream",
     "text": [
      "['Q2', 'Q3', 'Q4', 'Q5', 'Q8', 'Q9']\n"
     ]
    }
   ],
   "source": [
    "#문제해석: question 리스트에서 single choice 문항인 원소들만 뽑아내는 것.\n",
    "question = ['Q2', 'Q3', 'Q4', 'Q5', 'Q6_1', 'Q6_2', 'Q6_3', 'Q6_4', 'Q6_5', 'Q6_6', 'Q6_7', 'Q6_8', 'Q6_9', 'Q6_10', 'Q6_11', 'Q6_12', 'Q7_1', 'Q7_2', 'Q7_3', 'Q7_4', 'Q7_5', 'Q7_6', 'Q7_7', 'Q8', 'Q9', 'Q10_1', 'Q10_2', 'Q10_3']\n",
    "\n",
    "#리스트 형태로 답이 출력되어야 하므로 ans라는 리스트를 만들고\n",
    "ans=[]\n",
    "\n",
    "#question 리스트에서 for문을 이용해 원소를 뽑아낸다.\n",
    "for i in question:\n",
    "    if '_' not in i: #단, if문을 이용해 '_'가 없는 원소만을.\n",
    "        ans.append(i) #이 원소들을 ans리스트에 추가.\n",
    "print(ans)"
   ]
  },
  {
   "cell_type": "code",
   "execution_count": 4,
   "outputs": [
    {
     "name": "stdout",
     "output_type": "stream",
     "text": [
      "['Q2', 'Q3', 'Q4', 'Q5', 'Q8', 'Q9']\n"
     ]
    }
   ],
   "source": [
    "ans2 = [i for i in question if \"_\" not in i]\n",
    "print(ans2)"
   ],
   "metadata": {
    "collapsed": false,
    "pycharm": {
     "name": "#%%\n"
    }
   }
  },
  {
   "cell_type": "code",
   "execution_count": 5,
   "outputs": [
    {
     "data": {
      "text/plain": "     Year        Country  Spending_USD  Life_Expectancy\n0    1970        Germany       252.311             70.6\n1    1970         France       192.143             72.2\n2    1970  Great Britain       123.993             71.9\n3    1970          Japan       150.437             72.0\n4    1970            USA       326.961             70.9\n..    ...            ...           ...              ...\n269  2020        Germany      6938.983             81.1\n270  2020         France      5468.418             82.3\n271  2020  Great Britain      5018.700             80.4\n272  2020          Japan      4665.641             84.7\n273  2020            USA     11859.179             77.0\n\n[274 rows x 4 columns]",
      "text/html": "<div>\n<style scoped>\n    .dataframe tbody tr th:only-of-type {\n        vertical-align: middle;\n    }\n\n    .dataframe tbody tr th {\n        vertical-align: top;\n    }\n\n    .dataframe thead th {\n        text-align: right;\n    }\n</style>\n<table border=\"1\" class=\"dataframe\">\n  <thead>\n    <tr style=\"text-align: right;\">\n      <th></th>\n      <th>Year</th>\n      <th>Country</th>\n      <th>Spending_USD</th>\n      <th>Life_Expectancy</th>\n    </tr>\n  </thead>\n  <tbody>\n    <tr>\n      <th>0</th>\n      <td>1970</td>\n      <td>Germany</td>\n      <td>252.311</td>\n      <td>70.6</td>\n    </tr>\n    <tr>\n      <th>1</th>\n      <td>1970</td>\n      <td>France</td>\n      <td>192.143</td>\n      <td>72.2</td>\n    </tr>\n    <tr>\n      <th>2</th>\n      <td>1970</td>\n      <td>Great Britain</td>\n      <td>123.993</td>\n      <td>71.9</td>\n    </tr>\n    <tr>\n      <th>3</th>\n      <td>1970</td>\n      <td>Japan</td>\n      <td>150.437</td>\n      <td>72.0</td>\n    </tr>\n    <tr>\n      <th>4</th>\n      <td>1970</td>\n      <td>USA</td>\n      <td>326.961</td>\n      <td>70.9</td>\n    </tr>\n    <tr>\n      <th>...</th>\n      <td>...</td>\n      <td>...</td>\n      <td>...</td>\n      <td>...</td>\n    </tr>\n    <tr>\n      <th>269</th>\n      <td>2020</td>\n      <td>Germany</td>\n      <td>6938.983</td>\n      <td>81.1</td>\n    </tr>\n    <tr>\n      <th>270</th>\n      <td>2020</td>\n      <td>France</td>\n      <td>5468.418</td>\n      <td>82.3</td>\n    </tr>\n    <tr>\n      <th>271</th>\n      <td>2020</td>\n      <td>Great Britain</td>\n      <td>5018.700</td>\n      <td>80.4</td>\n    </tr>\n    <tr>\n      <th>272</th>\n      <td>2020</td>\n      <td>Japan</td>\n      <td>4665.641</td>\n      <td>84.7</td>\n    </tr>\n    <tr>\n      <th>273</th>\n      <td>2020</td>\n      <td>USA</td>\n      <td>11859.179</td>\n      <td>77.0</td>\n    </tr>\n  </tbody>\n</table>\n<p>274 rows × 4 columns</p>\n</div>"
     },
     "execution_count": 5,
     "metadata": {},
     "output_type": "execute_result"
    }
   ],
   "source": [
    "import pandas as pd\n",
    "df = pd.read_csv(\"https://raw.githubusercontent.com/mwaskom/seaborn-data/master/healthexp.csv\")\n",
    "df"
   ],
   "metadata": {
    "collapsed": false,
    "pycharm": {
     "name": "#%%\n"
    }
   }
  },
  {
   "cell_type": "code",
   "execution_count": 6,
   "outputs": [
    {
     "data": {
      "text/plain": "Country  Canada  France  Germany  Great Britain  Japan   USA\nYear                                                        \n2011       81.4    82.3     80.5           81.0   82.7  78.7\n2012       81.6    82.1     80.6           81.0   83.2  78.8\n2013       81.7    82.3     80.6           81.1   83.4  78.8\n2014       81.8    82.8     81.2           81.4   83.7  78.9\n2015       81.9    82.4     80.7           81.0   83.9  78.7\n2016       82.0    82.7     81.0           81.2   84.1  78.7\n2017       81.9    82.7     81.1           81.3   84.2  78.6\n2018       82.0    82.8     81.0           81.3   84.3  78.7\n2019       82.2    82.9     81.3           81.4   84.4  78.8\n2020       81.7    82.3     81.1           80.4   84.7  77.0",
      "text/html": "<div>\n<style scoped>\n    .dataframe tbody tr th:only-of-type {\n        vertical-align: middle;\n    }\n\n    .dataframe tbody tr th {\n        vertical-align: top;\n    }\n\n    .dataframe thead th {\n        text-align: right;\n    }\n</style>\n<table border=\"1\" class=\"dataframe\">\n  <thead>\n    <tr style=\"text-align: right;\">\n      <th>Country</th>\n      <th>Canada</th>\n      <th>France</th>\n      <th>Germany</th>\n      <th>Great Britain</th>\n      <th>Japan</th>\n      <th>USA</th>\n    </tr>\n    <tr>\n      <th>Year</th>\n      <th></th>\n      <th></th>\n      <th></th>\n      <th></th>\n      <th></th>\n      <th></th>\n    </tr>\n  </thead>\n  <tbody>\n    <tr>\n      <th>2011</th>\n      <td>81.4</td>\n      <td>82.3</td>\n      <td>80.5</td>\n      <td>81.0</td>\n      <td>82.7</td>\n      <td>78.7</td>\n    </tr>\n    <tr>\n      <th>2012</th>\n      <td>81.6</td>\n      <td>82.1</td>\n      <td>80.6</td>\n      <td>81.0</td>\n      <td>83.2</td>\n      <td>78.8</td>\n    </tr>\n    <tr>\n      <th>2013</th>\n      <td>81.7</td>\n      <td>82.3</td>\n      <td>80.6</td>\n      <td>81.1</td>\n      <td>83.4</td>\n      <td>78.8</td>\n    </tr>\n    <tr>\n      <th>2014</th>\n      <td>81.8</td>\n      <td>82.8</td>\n      <td>81.2</td>\n      <td>81.4</td>\n      <td>83.7</td>\n      <td>78.9</td>\n    </tr>\n    <tr>\n      <th>2015</th>\n      <td>81.9</td>\n      <td>82.4</td>\n      <td>80.7</td>\n      <td>81.0</td>\n      <td>83.9</td>\n      <td>78.7</td>\n    </tr>\n    <tr>\n      <th>2016</th>\n      <td>82.0</td>\n      <td>82.7</td>\n      <td>81.0</td>\n      <td>81.2</td>\n      <td>84.1</td>\n      <td>78.7</td>\n    </tr>\n    <tr>\n      <th>2017</th>\n      <td>81.9</td>\n      <td>82.7</td>\n      <td>81.1</td>\n      <td>81.3</td>\n      <td>84.2</td>\n      <td>78.6</td>\n    </tr>\n    <tr>\n      <th>2018</th>\n      <td>82.0</td>\n      <td>82.8</td>\n      <td>81.0</td>\n      <td>81.3</td>\n      <td>84.3</td>\n      <td>78.7</td>\n    </tr>\n    <tr>\n      <th>2019</th>\n      <td>82.2</td>\n      <td>82.9</td>\n      <td>81.3</td>\n      <td>81.4</td>\n      <td>84.4</td>\n      <td>78.8</td>\n    </tr>\n    <tr>\n      <th>2020</th>\n      <td>81.7</td>\n      <td>82.3</td>\n      <td>81.1</td>\n      <td>80.4</td>\n      <td>84.7</td>\n      <td>77.0</td>\n    </tr>\n  </tbody>\n</table>\n</div>"
     },
     "execution_count": 6,
     "metadata": {},
     "output_type": "execute_result"
    }
   ],
   "source": [
    "# Pivot_table 이용\n",
    "pd.pivot_table(df[df['Year'] >= 2011], values = \"Life_Expectancy\", index = \"Year\", columns= \"Country\")"
   ],
   "metadata": {
    "collapsed": false,
    "pycharm": {
     "name": "#%%\n"
    }
   }
  },
  {
   "cell_type": "code",
   "execution_count": 13,
   "outputs": [],
   "source": [
    "# Pivot 이용\n",
    "df = pd.read_csv(\"https://raw.githubusercontent.com/mwaskom/seaborn-data/master/healthexp.csv\")\n",
    "df\n",
    "df2 = df[df[\"Year\"] >= 2011]"
   ],
   "metadata": {
    "collapsed": false,
    "pycharm": {
     "name": "#%%\n"
    }
   }
  },
  {
   "cell_type": "code",
   "execution_count": 15,
   "outputs": [
    {
     "data": {
      "text/plain": "Country  Canada  France  Germany  Great Britain  Japan   USA\nYear                                                        \n2011       81.4    82.3     80.5           81.0   82.7  78.7\n2012       81.6    82.1     80.6           81.0   83.2  78.8\n2013       81.7    82.3     80.6           81.1   83.4  78.8\n2014       81.8    82.8     81.2           81.4   83.7  78.9\n2015       81.9    82.4     80.7           81.0   83.9  78.7\n2016       82.0    82.7     81.0           81.2   84.1  78.7\n2017       81.9    82.7     81.1           81.3   84.2  78.6\n2018       82.0    82.8     81.0           81.3   84.3  78.7\n2019       82.2    82.9     81.3           81.4   84.4  78.8\n2020       81.7    82.3     81.1           80.4   84.7  77.0",
      "text/html": "<div>\n<style scoped>\n    .dataframe tbody tr th:only-of-type {\n        vertical-align: middle;\n    }\n\n    .dataframe tbody tr th {\n        vertical-align: top;\n    }\n\n    .dataframe thead th {\n        text-align: right;\n    }\n</style>\n<table border=\"1\" class=\"dataframe\">\n  <thead>\n    <tr style=\"text-align: right;\">\n      <th>Country</th>\n      <th>Canada</th>\n      <th>France</th>\n      <th>Germany</th>\n      <th>Great Britain</th>\n      <th>Japan</th>\n      <th>USA</th>\n    </tr>\n    <tr>\n      <th>Year</th>\n      <th></th>\n      <th></th>\n      <th></th>\n      <th></th>\n      <th></th>\n      <th></th>\n    </tr>\n  </thead>\n  <tbody>\n    <tr>\n      <th>2011</th>\n      <td>81.4</td>\n      <td>82.3</td>\n      <td>80.5</td>\n      <td>81.0</td>\n      <td>82.7</td>\n      <td>78.7</td>\n    </tr>\n    <tr>\n      <th>2012</th>\n      <td>81.6</td>\n      <td>82.1</td>\n      <td>80.6</td>\n      <td>81.0</td>\n      <td>83.2</td>\n      <td>78.8</td>\n    </tr>\n    <tr>\n      <th>2013</th>\n      <td>81.7</td>\n      <td>82.3</td>\n      <td>80.6</td>\n      <td>81.1</td>\n      <td>83.4</td>\n      <td>78.8</td>\n    </tr>\n    <tr>\n      <th>2014</th>\n      <td>81.8</td>\n      <td>82.8</td>\n      <td>81.2</td>\n      <td>81.4</td>\n      <td>83.7</td>\n      <td>78.9</td>\n    </tr>\n    <tr>\n      <th>2015</th>\n      <td>81.9</td>\n      <td>82.4</td>\n      <td>80.7</td>\n      <td>81.0</td>\n      <td>83.9</td>\n      <td>78.7</td>\n    </tr>\n    <tr>\n      <th>2016</th>\n      <td>82.0</td>\n      <td>82.7</td>\n      <td>81.0</td>\n      <td>81.2</td>\n      <td>84.1</td>\n      <td>78.7</td>\n    </tr>\n    <tr>\n      <th>2017</th>\n      <td>81.9</td>\n      <td>82.7</td>\n      <td>81.1</td>\n      <td>81.3</td>\n      <td>84.2</td>\n      <td>78.6</td>\n    </tr>\n    <tr>\n      <th>2018</th>\n      <td>82.0</td>\n      <td>82.8</td>\n      <td>81.0</td>\n      <td>81.3</td>\n      <td>84.3</td>\n      <td>78.7</td>\n    </tr>\n    <tr>\n      <th>2019</th>\n      <td>82.2</td>\n      <td>82.9</td>\n      <td>81.3</td>\n      <td>81.4</td>\n      <td>84.4</td>\n      <td>78.8</td>\n    </tr>\n    <tr>\n      <th>2020</th>\n      <td>81.7</td>\n      <td>82.3</td>\n      <td>81.1</td>\n      <td>80.4</td>\n      <td>84.7</td>\n      <td>77.0</td>\n    </tr>\n  </tbody>\n</table>\n</div>"
     },
     "execution_count": 15,
     "metadata": {},
     "output_type": "execute_result"
    }
   ],
   "source": [
    "pd.pivot(df2, index = \"Year\", columns = \"Country\", values = \"Life_Expectancy\")"
   ],
   "metadata": {
    "collapsed": false,
    "pycharm": {
     "name": "#%%\n"
    }
   }
  },
  {
   "cell_type": "code",
   "execution_count": 19,
   "outputs": [],
   "source": [
    "# groupby 이용"
   ],
   "metadata": {
    "collapsed": false,
    "pycharm": {
     "name": "#%%\n"
    }
   }
  },
  {
   "cell_type": "code",
   "execution_count": 16,
   "outputs": [
    {
     "data": {
      "text/plain": "     Year        Country  Spending_USD  Life_Expectancy\n0    1970        Germany       252.311             70.6\n1    1970         France       192.143             72.2\n2    1970  Great Britain       123.993             71.9\n3    1970          Japan       150.437             72.0\n4    1970            USA       326.961             70.9\n..    ...            ...           ...              ...\n269  2020        Germany      6938.983             81.1\n270  2020         France      5468.418             82.3\n271  2020  Great Britain      5018.700             80.4\n272  2020          Japan      4665.641             84.7\n273  2020            USA     11859.179             77.0\n\n[274 rows x 4 columns]",
      "text/html": "<div>\n<style scoped>\n    .dataframe tbody tr th:only-of-type {\n        vertical-align: middle;\n    }\n\n    .dataframe tbody tr th {\n        vertical-align: top;\n    }\n\n    .dataframe thead th {\n        text-align: right;\n    }\n</style>\n<table border=\"1\" class=\"dataframe\">\n  <thead>\n    <tr style=\"text-align: right;\">\n      <th></th>\n      <th>Year</th>\n      <th>Country</th>\n      <th>Spending_USD</th>\n      <th>Life_Expectancy</th>\n    </tr>\n  </thead>\n  <tbody>\n    <tr>\n      <th>0</th>\n      <td>1970</td>\n      <td>Germany</td>\n      <td>252.311</td>\n      <td>70.6</td>\n    </tr>\n    <tr>\n      <th>1</th>\n      <td>1970</td>\n      <td>France</td>\n      <td>192.143</td>\n      <td>72.2</td>\n    </tr>\n    <tr>\n      <th>2</th>\n      <td>1970</td>\n      <td>Great Britain</td>\n      <td>123.993</td>\n      <td>71.9</td>\n    </tr>\n    <tr>\n      <th>3</th>\n      <td>1970</td>\n      <td>Japan</td>\n      <td>150.437</td>\n      <td>72.0</td>\n    </tr>\n    <tr>\n      <th>4</th>\n      <td>1970</td>\n      <td>USA</td>\n      <td>326.961</td>\n      <td>70.9</td>\n    </tr>\n    <tr>\n      <th>...</th>\n      <td>...</td>\n      <td>...</td>\n      <td>...</td>\n      <td>...</td>\n    </tr>\n    <tr>\n      <th>269</th>\n      <td>2020</td>\n      <td>Germany</td>\n      <td>6938.983</td>\n      <td>81.1</td>\n    </tr>\n    <tr>\n      <th>270</th>\n      <td>2020</td>\n      <td>France</td>\n      <td>5468.418</td>\n      <td>82.3</td>\n    </tr>\n    <tr>\n      <th>271</th>\n      <td>2020</td>\n      <td>Great Britain</td>\n      <td>5018.700</td>\n      <td>80.4</td>\n    </tr>\n    <tr>\n      <th>272</th>\n      <td>2020</td>\n      <td>Japan</td>\n      <td>4665.641</td>\n      <td>84.7</td>\n    </tr>\n    <tr>\n      <th>273</th>\n      <td>2020</td>\n      <td>USA</td>\n      <td>11859.179</td>\n      <td>77.0</td>\n    </tr>\n  </tbody>\n</table>\n<p>274 rows × 4 columns</p>\n</div>"
     },
     "execution_count": 16,
     "metadata": {},
     "output_type": "execute_result"
    }
   ],
   "source": [
    "df = pd.read_csv(\"https://raw.githubusercontent.com/mwaskom/seaborn-data/master/healthexp.csv\")\n",
    "df"
   ],
   "metadata": {
    "collapsed": false,
    "pycharm": {
     "name": "#%%\n"
    }
   }
  },
  {
   "cell_type": "code",
   "execution_count": 18,
   "outputs": [
    {
     "data": {
      "text/plain": "                    Spending_USD  Life_Expectancy\nYear Country                                     \n2011 Canada             4228.962             81.4\n     France             4161.698             82.3\n     Germany            4566.678             80.5\n     Great Britain      3495.652             81.0\n     Japan              3740.756             82.7\n     USA                8079.467             78.7\n2012 Canada             4336.249             81.6\n     France             4299.434             82.1\n     Germany            4745.546             80.6\n     Great Britain      3614.131             81.0\n     Japan              3970.765             83.2\n     USA                8346.064             78.8\n2013 Canada             4428.753             81.7\n     France             4544.964             82.3\n     Germany            4951.677             80.6\n     Great Britain      3667.636             81.1\n     Japan              4308.252             83.4\n     USA                8519.620             78.8\n2014 Canada             4536.810             81.8\n     France             4626.679             82.8\n     Germany            5151.709             81.2\n     Great Britain      3758.935             81.4\n     Japan              4328.364             83.7\n     USA                8925.879             78.9\n2015 Canada             4635.285             81.9\n     France             4667.156             82.4\n     Germany            5295.975             80.7\n     Great Britain      3805.820             81.0\n     Japan              4515.556             83.9\n     USA                9355.118             78.7\n2016 Canada             5044.275             82.0\n     France             4928.128             82.7\n     Germany            5669.064             81.0\n     Great Britain      3960.141             81.2\n     Japan              4295.858             84.1\n     USA                9717.649             78.7\n2017 Canada             5150.470             81.9\n     France             5005.756             82.7\n     Germany            5970.163             81.1\n     Great Britain      4059.125             81.3\n     Japan              4412.852             84.2\n     USA               10046.472             78.6\n2018 Canada             5308.356             82.0\n     France             5099.306             82.8\n     Germany            6281.840             81.0\n     Great Britain      4189.708             81.3\n     Japan              4554.276             84.3\n     USA               10451.386             78.7\n2019 Canada             5189.721             82.2\n     France             5167.839             82.9\n     Germany            6407.928             81.3\n     Great Britain      4385.463             81.4\n     Japan              4610.794             84.4\n     USA               10855.517             78.8\n2020 Canada             5828.324             81.7\n     France             5468.418             82.3\n     Germany            6938.983             81.1\n     Great Britain      5018.700             80.4\n     Japan              4665.641             84.7\n     USA               11859.179             77.0",
      "text/html": "<div>\n<style scoped>\n    .dataframe tbody tr th:only-of-type {\n        vertical-align: middle;\n    }\n\n    .dataframe tbody tr th {\n        vertical-align: top;\n    }\n\n    .dataframe thead th {\n        text-align: right;\n    }\n</style>\n<table border=\"1\" class=\"dataframe\">\n  <thead>\n    <tr style=\"text-align: right;\">\n      <th></th>\n      <th></th>\n      <th>Spending_USD</th>\n      <th>Life_Expectancy</th>\n    </tr>\n    <tr>\n      <th>Year</th>\n      <th>Country</th>\n      <th></th>\n      <th></th>\n    </tr>\n  </thead>\n  <tbody>\n    <tr>\n      <th rowspan=\"6\" valign=\"top\">2011</th>\n      <th>Canada</th>\n      <td>4228.962</td>\n      <td>81.4</td>\n    </tr>\n    <tr>\n      <th>France</th>\n      <td>4161.698</td>\n      <td>82.3</td>\n    </tr>\n    <tr>\n      <th>Germany</th>\n      <td>4566.678</td>\n      <td>80.5</td>\n    </tr>\n    <tr>\n      <th>Great Britain</th>\n      <td>3495.652</td>\n      <td>81.0</td>\n    </tr>\n    <tr>\n      <th>Japan</th>\n      <td>3740.756</td>\n      <td>82.7</td>\n    </tr>\n    <tr>\n      <th>USA</th>\n      <td>8079.467</td>\n      <td>78.7</td>\n    </tr>\n    <tr>\n      <th rowspan=\"6\" valign=\"top\">2012</th>\n      <th>Canada</th>\n      <td>4336.249</td>\n      <td>81.6</td>\n    </tr>\n    <tr>\n      <th>France</th>\n      <td>4299.434</td>\n      <td>82.1</td>\n    </tr>\n    <tr>\n      <th>Germany</th>\n      <td>4745.546</td>\n      <td>80.6</td>\n    </tr>\n    <tr>\n      <th>Great Britain</th>\n      <td>3614.131</td>\n      <td>81.0</td>\n    </tr>\n    <tr>\n      <th>Japan</th>\n      <td>3970.765</td>\n      <td>83.2</td>\n    </tr>\n    <tr>\n      <th>USA</th>\n      <td>8346.064</td>\n      <td>78.8</td>\n    </tr>\n    <tr>\n      <th rowspan=\"6\" valign=\"top\">2013</th>\n      <th>Canada</th>\n      <td>4428.753</td>\n      <td>81.7</td>\n    </tr>\n    <tr>\n      <th>France</th>\n      <td>4544.964</td>\n      <td>82.3</td>\n    </tr>\n    <tr>\n      <th>Germany</th>\n      <td>4951.677</td>\n      <td>80.6</td>\n    </tr>\n    <tr>\n      <th>Great Britain</th>\n      <td>3667.636</td>\n      <td>81.1</td>\n    </tr>\n    <tr>\n      <th>Japan</th>\n      <td>4308.252</td>\n      <td>83.4</td>\n    </tr>\n    <tr>\n      <th>USA</th>\n      <td>8519.620</td>\n      <td>78.8</td>\n    </tr>\n    <tr>\n      <th rowspan=\"6\" valign=\"top\">2014</th>\n      <th>Canada</th>\n      <td>4536.810</td>\n      <td>81.8</td>\n    </tr>\n    <tr>\n      <th>France</th>\n      <td>4626.679</td>\n      <td>82.8</td>\n    </tr>\n    <tr>\n      <th>Germany</th>\n      <td>5151.709</td>\n      <td>81.2</td>\n    </tr>\n    <tr>\n      <th>Great Britain</th>\n      <td>3758.935</td>\n      <td>81.4</td>\n    </tr>\n    <tr>\n      <th>Japan</th>\n      <td>4328.364</td>\n      <td>83.7</td>\n    </tr>\n    <tr>\n      <th>USA</th>\n      <td>8925.879</td>\n      <td>78.9</td>\n    </tr>\n    <tr>\n      <th rowspan=\"6\" valign=\"top\">2015</th>\n      <th>Canada</th>\n      <td>4635.285</td>\n      <td>81.9</td>\n    </tr>\n    <tr>\n      <th>France</th>\n      <td>4667.156</td>\n      <td>82.4</td>\n    </tr>\n    <tr>\n      <th>Germany</th>\n      <td>5295.975</td>\n      <td>80.7</td>\n    </tr>\n    <tr>\n      <th>Great Britain</th>\n      <td>3805.820</td>\n      <td>81.0</td>\n    </tr>\n    <tr>\n      <th>Japan</th>\n      <td>4515.556</td>\n      <td>83.9</td>\n    </tr>\n    <tr>\n      <th>USA</th>\n      <td>9355.118</td>\n      <td>78.7</td>\n    </tr>\n    <tr>\n      <th rowspan=\"6\" valign=\"top\">2016</th>\n      <th>Canada</th>\n      <td>5044.275</td>\n      <td>82.0</td>\n    </tr>\n    <tr>\n      <th>France</th>\n      <td>4928.128</td>\n      <td>82.7</td>\n    </tr>\n    <tr>\n      <th>Germany</th>\n      <td>5669.064</td>\n      <td>81.0</td>\n    </tr>\n    <tr>\n      <th>Great Britain</th>\n      <td>3960.141</td>\n      <td>81.2</td>\n    </tr>\n    <tr>\n      <th>Japan</th>\n      <td>4295.858</td>\n      <td>84.1</td>\n    </tr>\n    <tr>\n      <th>USA</th>\n      <td>9717.649</td>\n      <td>78.7</td>\n    </tr>\n    <tr>\n      <th rowspan=\"6\" valign=\"top\">2017</th>\n      <th>Canada</th>\n      <td>5150.470</td>\n      <td>81.9</td>\n    </tr>\n    <tr>\n      <th>France</th>\n      <td>5005.756</td>\n      <td>82.7</td>\n    </tr>\n    <tr>\n      <th>Germany</th>\n      <td>5970.163</td>\n      <td>81.1</td>\n    </tr>\n    <tr>\n      <th>Great Britain</th>\n      <td>4059.125</td>\n      <td>81.3</td>\n    </tr>\n    <tr>\n      <th>Japan</th>\n      <td>4412.852</td>\n      <td>84.2</td>\n    </tr>\n    <tr>\n      <th>USA</th>\n      <td>10046.472</td>\n      <td>78.6</td>\n    </tr>\n    <tr>\n      <th rowspan=\"6\" valign=\"top\">2018</th>\n      <th>Canada</th>\n      <td>5308.356</td>\n      <td>82.0</td>\n    </tr>\n    <tr>\n      <th>France</th>\n      <td>5099.306</td>\n      <td>82.8</td>\n    </tr>\n    <tr>\n      <th>Germany</th>\n      <td>6281.840</td>\n      <td>81.0</td>\n    </tr>\n    <tr>\n      <th>Great Britain</th>\n      <td>4189.708</td>\n      <td>81.3</td>\n    </tr>\n    <tr>\n      <th>Japan</th>\n      <td>4554.276</td>\n      <td>84.3</td>\n    </tr>\n    <tr>\n      <th>USA</th>\n      <td>10451.386</td>\n      <td>78.7</td>\n    </tr>\n    <tr>\n      <th rowspan=\"6\" valign=\"top\">2019</th>\n      <th>Canada</th>\n      <td>5189.721</td>\n      <td>82.2</td>\n    </tr>\n    <tr>\n      <th>France</th>\n      <td>5167.839</td>\n      <td>82.9</td>\n    </tr>\n    <tr>\n      <th>Germany</th>\n      <td>6407.928</td>\n      <td>81.3</td>\n    </tr>\n    <tr>\n      <th>Great Britain</th>\n      <td>4385.463</td>\n      <td>81.4</td>\n    </tr>\n    <tr>\n      <th>Japan</th>\n      <td>4610.794</td>\n      <td>84.4</td>\n    </tr>\n    <tr>\n      <th>USA</th>\n      <td>10855.517</td>\n      <td>78.8</td>\n    </tr>\n    <tr>\n      <th rowspan=\"6\" valign=\"top\">2020</th>\n      <th>Canada</th>\n      <td>5828.324</td>\n      <td>81.7</td>\n    </tr>\n    <tr>\n      <th>France</th>\n      <td>5468.418</td>\n      <td>82.3</td>\n    </tr>\n    <tr>\n      <th>Germany</th>\n      <td>6938.983</td>\n      <td>81.1</td>\n    </tr>\n    <tr>\n      <th>Great Britain</th>\n      <td>5018.700</td>\n      <td>80.4</td>\n    </tr>\n    <tr>\n      <th>Japan</th>\n      <td>4665.641</td>\n      <td>84.7</td>\n    </tr>\n    <tr>\n      <th>USA</th>\n      <td>11859.179</td>\n      <td>77.0</td>\n    </tr>\n  </tbody>\n</table>\n</div>"
     },
     "execution_count": 18,
     "metadata": {},
     "output_type": "execute_result"
    }
   ],
   "source": [
    "df3 = df.drop([\"Spending_USD\"], axis = 1)\n",
    "df3 = df[df[\"Year\"] >= 2011]\n",
    "df3 = df3.groupby(['Year','Country']).mean()\n",
    "df3"
   ],
   "metadata": {
    "collapsed": false,
    "pycharm": {
     "name": "#%%\n"
    }
   }
  },
  {
   "cell_type": "code",
   "execution_count": 1,
   "outputs": [
    {
     "name": "stdout",
     "output_type": "stream",
     "text": [
      "The Zen of Python, by Tim Peters\n",
      "\n",
      "Beautiful is better than ugly.\n",
      "Explicit is better than implicit.\n",
      "Simple is better than complex.\n",
      "Complex is better than complicated.\n",
      "Flat is better than nested.\n",
      "Sparse is better than dense.\n",
      "Readability counts.\n",
      "Special cases aren't special enough to break the rules.\n",
      "Although practicality beats purity.\n",
      "Errors should never pass silently.\n",
      "Unless explicitly silenced.\n",
      "In the face of ambiguity, refuse the temptation to guess.\n",
      "There should be one-- and preferably only one --obvious way to do it.\n",
      "Although that way may not be obvious at first unless you're Dutch.\n",
      "Now is better than never.\n",
      "Although never is often better than *right* now.\n",
      "If the implementation is hard to explain, it's a bad idea.\n",
      "If the implementation is easy to explain, it may be a good idea.\n",
      "Namespaces are one honking great idea -- let's do more of those!\n"
     ]
    }
   ],
   "source": [
    "import this"
   ],
   "metadata": {
    "collapsed": false,
    "pycharm": {
     "name": "#%%\n"
    }
   }
  },
  {
   "cell_type": "code",
   "execution_count": null,
   "outputs": [],
   "source": [],
   "metadata": {
    "collapsed": false,
    "pycharm": {
     "name": "#%%\n"
    }
   }
  }
 ],
 "metadata": {
  "kernelspec": {
   "display_name": "Python 3",
   "language": "python",
   "name": "python3"
  },
  "language_info": {
   "codemirror_mode": {
    "name": "ipython",
    "version": 2
   },
   "file_extension": ".py",
   "mimetype": "text/x-python",
   "name": "python",
   "nbconvert_exporter": "python",
   "pygments_lexer": "ipython2",
   "version": "2.7.6"
  }
 },
 "nbformat": 4,
 "nbformat_minor": 0
}