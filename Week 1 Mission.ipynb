{
 "cells": [
  {
   "cell_type": "code",
   "execution_count": 1,
   "metadata": {
    "collapsed": true
   },
   "outputs": [],
   "source": [
    "#문제해석: question 리스트에서 single choice 문항인 원소들만 뽑아내는 것.\n",
    "question = ['Q2', 'Q3', 'Q4', 'Q5', 'Q6_1', 'Q6_2', 'Q6_3', 'Q6_4', 'Q6_5', 'Q6_6', 'Q6_7', 'Q6_8', 'Q6_9', 'Q6_10', 'Q6_11', 'Q6_12', 'Q7_1', 'Q7_2', 'Q7_3', 'Q7_4', 'Q7_5', 'Q7_6', 'Q7_7', 'Q8', 'Q9', 'Q10_1', 'Q10_2', 'Q10_3']\n",
    "\n",
    "#리스트 형태로 답이 출력되어야 하므로 ans라는 리스트를 만들고\n",
    "ans=[]\n",
    "\n",
    "#question 리스트에서 for문을 이용해 원소를 뽑아낸다.\n",
    "for i in question:\n",
    "    if '_' not in i: #단, if문을 이용해 '_'가 없는 원소만을.\n",
    "        ans.append(i) #이 원소들을 ans리스트에 추가."
   ]
  }
 ],
 "metadata": {
  "kernelspec": {
   "display_name": "Python 3",
   "language": "python",
   "name": "python3"
  },
  "language_info": {
   "codemirror_mode": {
    "name": "ipython",
    "version": 2
   },
   "file_extension": ".py",
   "mimetype": "text/x-python",
   "name": "python",
   "nbconvert_exporter": "python",
   "pygments_lexer": "ipython2",
   "version": "2.7.6"
  }
 },
 "nbformat": 4,
 "nbformat_minor": 0
}