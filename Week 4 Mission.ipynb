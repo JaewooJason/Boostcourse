{
 "cells": [
  {
   "cell_type": "code",
   "execution_count": 52,
   "metadata": {
    "collapsed": true
   },
   "outputs": [],
   "source": [
    "import pandas as pd\n",
    "import numpy as np\n",
    "import seaborn as sns\n",
    "import matplotlib.pyplot as plt\n",
    "\n",
    "# 한글폰트 사용을 위해 설치\n",
    "# 아래 모듈을 설치하고 불러오면 별도의 한글폰트 설정이 필요 없습니다.\n",
    "# !pip install koreanize-matplotlib\n",
    "\n",
    "import koreanize_matplotlib\n",
    "\n",
    "df = pd.read_csv(\n",
    "    \"https://raw.githubusercontent.com/corazzon/boostcourse-ds-510/master/data/online_oversea_sale_202210.csv.zip\",\n",
    "    encoding=\"cp949\")"
   ]
  },
  {
   "cell_type": "code",
   "execution_count": 53,
   "outputs": [],
   "source": [
    "df = pd.read_csv(\n",
    "    \"https://raw.githubusercontent.com/corazzon/boostcourse-ds-510/master/data/online_oversea_sale_202210.csv.zip\",\n",
    "    encoding=\"cp949\")"
   ],
   "metadata": {
    "collapsed": false,
    "pycharm": {
     "name": "#%%\n"
    }
   }
  },
  {
   "cell_type": "code",
   "execution_count": 54,
   "outputs": [
    {
     "data": {
      "text/plain": "0       2017.1/4\n1       2017.2/4\n2       2017.3/4\n3       2017.4/4\n4       2018.1/4\n          ...   \n2767    2021.2/4\n2768    2021.3/4\n2769    2021.4/4\n2770    2022.1/4\n2771    2022.2/4\nName: 시점, Length: 2772, dtype: object"
     },
     "execution_count": 54,
     "metadata": {},
     "output_type": "execute_result"
    }
   ],
   "source": [
    "df = df.rename(columns={'데이터':'백만'})\n",
    "df['시점'].map(lambda x : x.split()[0])"
   ],
   "metadata": {
    "collapsed": false,
    "pycharm": {
     "name": "#%%\n"
    }
   }
  },
  {
   "cell_type": "code",
   "execution_count": 55,
   "outputs": [
    {
     "data": {
      "text/plain": "0    2017\n1    2017\n2    2017\n3    2017\n4    2018\nName: 연도, dtype: int64"
     },
     "execution_count": 55,
     "metadata": {},
     "output_type": "execute_result"
    }
   ],
   "source": [
    "df['연도'] = df['시점'].map(lambda x : int(x.split('.')[0]))\n",
    "df['연도'].head()"
   ],
   "metadata": {
    "collapsed": false,
    "pycharm": {
     "name": "#%%\n"
    }
   }
  },
  {
   "cell_type": "code",
   "execution_count": 56,
   "outputs": [
    {
     "data": {
      "text/plain": "0       1\n1       2\n2       3\n3       4\n4       1\n       ..\n2767    2\n2768    3\n2769    4\n2770    1\n2771    2\nName: 분기, Length: 2772, dtype: int64"
     },
     "execution_count": 56,
     "metadata": {},
     "output_type": "execute_result"
    }
   ],
   "source": [
    "df['분기'] = df['시점'].map(lambda x : int(x.split('.')[1].split('/')[0]))\n",
    "df['분기']"
   ],
   "metadata": {
    "collapsed": false,
    "pycharm": {
     "name": "#%%\n"
    }
   }
  },
  {
   "cell_type": "code",
   "execution_count": 57,
   "outputs": [
    {
     "data": {
      "text/plain": "     국가(대륙)별        상품군별   판매유형별           시점    백만    연도  분기\n0         미국  컴퓨터 및 주변기기  면세점 이외     2017.1/4  1054  2017   1\n1         미국  컴퓨터 및 주변기기  면세점 이외     2017.2/4   946  2017   2\n2         미국  컴퓨터 및 주변기기  면세점 이외     2017.3/4   791  2017   3\n3         미국  컴퓨터 및 주변기기  면세점 이외     2017.4/4   854  2017   4\n4         미국  컴퓨터 및 주변기기  면세점 이외     2018.1/4  2033  2018   1\n...      ...         ...     ...          ...   ...   ...  ..\n2767      기타         기 타  면세점 이외     2021.2/4  1278  2021   2\n2768      기타         기 타  면세점 이외     2021.3/4  1154  2021   3\n2769      기타         기 타  면세점 이외     2021.4/4  1076  2021   4\n2770      기타         기 타  면세점 이외     2022.1/4  2325  2022   1\n2771      기타         기 타  면세점 이외  2022.2/4 p)   725  2022   2\n\n[2772 rows x 7 columns]",
      "text/html": "<div>\n<style scoped>\n    .dataframe tbody tr th:only-of-type {\n        vertical-align: middle;\n    }\n\n    .dataframe tbody tr th {\n        vertical-align: top;\n    }\n\n    .dataframe thead th {\n        text-align: right;\n    }\n</style>\n<table border=\"1\" class=\"dataframe\">\n  <thead>\n    <tr style=\"text-align: right;\">\n      <th></th>\n      <th>국가(대륙)별</th>\n      <th>상품군별</th>\n      <th>판매유형별</th>\n      <th>시점</th>\n      <th>백만</th>\n      <th>연도</th>\n      <th>분기</th>\n    </tr>\n  </thead>\n  <tbody>\n    <tr>\n      <th>0</th>\n      <td>미국</td>\n      <td>컴퓨터 및 주변기기</td>\n      <td>면세점 이외</td>\n      <td>2017.1/4</td>\n      <td>1054</td>\n      <td>2017</td>\n      <td>1</td>\n    </tr>\n    <tr>\n      <th>1</th>\n      <td>미국</td>\n      <td>컴퓨터 및 주변기기</td>\n      <td>면세점 이외</td>\n      <td>2017.2/4</td>\n      <td>946</td>\n      <td>2017</td>\n      <td>2</td>\n    </tr>\n    <tr>\n      <th>2</th>\n      <td>미국</td>\n      <td>컴퓨터 및 주변기기</td>\n      <td>면세점 이외</td>\n      <td>2017.3/4</td>\n      <td>791</td>\n      <td>2017</td>\n      <td>3</td>\n    </tr>\n    <tr>\n      <th>3</th>\n      <td>미국</td>\n      <td>컴퓨터 및 주변기기</td>\n      <td>면세점 이외</td>\n      <td>2017.4/4</td>\n      <td>854</td>\n      <td>2017</td>\n      <td>4</td>\n    </tr>\n    <tr>\n      <th>4</th>\n      <td>미국</td>\n      <td>컴퓨터 및 주변기기</td>\n      <td>면세점 이외</td>\n      <td>2018.1/4</td>\n      <td>2033</td>\n      <td>2018</td>\n      <td>1</td>\n    </tr>\n    <tr>\n      <th>...</th>\n      <td>...</td>\n      <td>...</td>\n      <td>...</td>\n      <td>...</td>\n      <td>...</td>\n      <td>...</td>\n      <td>...</td>\n    </tr>\n    <tr>\n      <th>2767</th>\n      <td>기타</td>\n      <td>기 타</td>\n      <td>면세점 이외</td>\n      <td>2021.2/4</td>\n      <td>1278</td>\n      <td>2021</td>\n      <td>2</td>\n    </tr>\n    <tr>\n      <th>2768</th>\n      <td>기타</td>\n      <td>기 타</td>\n      <td>면세점 이외</td>\n      <td>2021.3/4</td>\n      <td>1154</td>\n      <td>2021</td>\n      <td>3</td>\n    </tr>\n    <tr>\n      <th>2769</th>\n      <td>기타</td>\n      <td>기 타</td>\n      <td>면세점 이외</td>\n      <td>2021.4/4</td>\n      <td>1076</td>\n      <td>2021</td>\n      <td>4</td>\n    </tr>\n    <tr>\n      <th>2770</th>\n      <td>기타</td>\n      <td>기 타</td>\n      <td>면세점 이외</td>\n      <td>2022.1/4</td>\n      <td>2325</td>\n      <td>2022</td>\n      <td>1</td>\n    </tr>\n    <tr>\n      <th>2771</th>\n      <td>기타</td>\n      <td>기 타</td>\n      <td>면세점 이외</td>\n      <td>2022.2/4 p)</td>\n      <td>725</td>\n      <td>2022</td>\n      <td>2</td>\n    </tr>\n  </tbody>\n</table>\n<p>2772 rows × 7 columns</p>\n</div>"
     },
     "execution_count": 57,
     "metadata": {},
     "output_type": "execute_result"
    }
   ],
   "source": [
    "df"
   ],
   "metadata": {
    "collapsed": false,
    "pycharm": {
     "name": "#%%\n"
    }
   }
  },
  {
   "cell_type": "code",
   "execution_count": 58,
   "outputs": [],
   "source": [
    "df1 = df.drop(df[['국가(대륙)별','상품군별','판매유형별','시점']], axis =1)"
   ],
   "metadata": {
    "collapsed": false,
    "pycharm": {
     "name": "#%%\n"
    }
   }
  },
  {
   "cell_type": "code",
   "execution_count": 59,
   "outputs": [
    {
     "data": {
      "text/plain": "                 백만           연도           분기\ncount   2772.000000  2772.000000  2772.000000\nmean    1613.116522  2019.272727     2.409091\nstd     4273.426107     1.600909     1.114533\nmin   -10003.000000  2017.000000     1.000000\n25%       41.750000  2018.000000     1.000000\n50%      291.500000  2019.000000     2.000000\n75%     1181.000000  2021.000000     3.000000\nmax    47689.000000  2022.000000     4.000000",
      "text/html": "<div>\n<style scoped>\n    .dataframe tbody tr th:only-of-type {\n        vertical-align: middle;\n    }\n\n    .dataframe tbody tr th {\n        vertical-align: top;\n    }\n\n    .dataframe thead th {\n        text-align: right;\n    }\n</style>\n<table border=\"1\" class=\"dataframe\">\n  <thead>\n    <tr style=\"text-align: right;\">\n      <th></th>\n      <th>백만</th>\n      <th>연도</th>\n      <th>분기</th>\n    </tr>\n  </thead>\n  <tbody>\n    <tr>\n      <th>count</th>\n      <td>2772.000000</td>\n      <td>2772.000000</td>\n      <td>2772.000000</td>\n    </tr>\n    <tr>\n      <th>mean</th>\n      <td>1613.116522</td>\n      <td>2019.272727</td>\n      <td>2.409091</td>\n    </tr>\n    <tr>\n      <th>std</th>\n      <td>4273.426107</td>\n      <td>1.600909</td>\n      <td>1.114533</td>\n    </tr>\n    <tr>\n      <th>min</th>\n      <td>-10003.000000</td>\n      <td>2017.000000</td>\n      <td>1.000000</td>\n    </tr>\n    <tr>\n      <th>25%</th>\n      <td>41.750000</td>\n      <td>2018.000000</td>\n      <td>1.000000</td>\n    </tr>\n    <tr>\n      <th>50%</th>\n      <td>291.500000</td>\n      <td>2019.000000</td>\n      <td>2.000000</td>\n    </tr>\n    <tr>\n      <th>75%</th>\n      <td>1181.000000</td>\n      <td>2021.000000</td>\n      <td>3.000000</td>\n    </tr>\n    <tr>\n      <th>max</th>\n      <td>47689.000000</td>\n      <td>2022.000000</td>\n      <td>4.000000</td>\n    </tr>\n  </tbody>\n</table>\n</div>"
     },
     "execution_count": 59,
     "metadata": {},
     "output_type": "execute_result"
    }
   ],
   "source": [
    "df1.describe()"
   ],
   "metadata": {
    "collapsed": false,
    "pycharm": {
     "name": "#%%\n"
    }
   }
  },
  {
   "cell_type": "code",
   "execution_count": 60,
   "outputs": [
    {
     "data": {
      "text/plain": "  국가(대륙)별        상품군별   판매유형별        시점    백만    연도  분기\n0      미국  컴퓨터 및 주변기기  면세점 이외  2017.1/4  1054  2017   1\n1      미국  컴퓨터 및 주변기기  면세점 이외  2017.2/4   946  2017   2\n2      미국  컴퓨터 및 주변기기  면세점 이외  2017.3/4   791  2017   3\n3      미국  컴퓨터 및 주변기기  면세점 이외  2017.4/4   854  2017   4\n4      미국  컴퓨터 및 주변기기  면세점 이외  2018.1/4  2033  2018   1",
      "text/html": "<div>\n<style scoped>\n    .dataframe tbody tr th:only-of-type {\n        vertical-align: middle;\n    }\n\n    .dataframe tbody tr th {\n        vertical-align: top;\n    }\n\n    .dataframe thead th {\n        text-align: right;\n    }\n</style>\n<table border=\"1\" class=\"dataframe\">\n  <thead>\n    <tr style=\"text-align: right;\">\n      <th></th>\n      <th>국가(대륙)별</th>\n      <th>상품군별</th>\n      <th>판매유형별</th>\n      <th>시점</th>\n      <th>백만</th>\n      <th>연도</th>\n      <th>분기</th>\n    </tr>\n  </thead>\n  <tbody>\n    <tr>\n      <th>0</th>\n      <td>미국</td>\n      <td>컴퓨터 및 주변기기</td>\n      <td>면세점 이외</td>\n      <td>2017.1/4</td>\n      <td>1054</td>\n      <td>2017</td>\n      <td>1</td>\n    </tr>\n    <tr>\n      <th>1</th>\n      <td>미국</td>\n      <td>컴퓨터 및 주변기기</td>\n      <td>면세점 이외</td>\n      <td>2017.2/4</td>\n      <td>946</td>\n      <td>2017</td>\n      <td>2</td>\n    </tr>\n    <tr>\n      <th>2</th>\n      <td>미국</td>\n      <td>컴퓨터 및 주변기기</td>\n      <td>면세점 이외</td>\n      <td>2017.3/4</td>\n      <td>791</td>\n      <td>2017</td>\n      <td>3</td>\n    </tr>\n    <tr>\n      <th>3</th>\n      <td>미국</td>\n      <td>컴퓨터 및 주변기기</td>\n      <td>면세점 이외</td>\n      <td>2017.4/4</td>\n      <td>854</td>\n      <td>2017</td>\n      <td>4</td>\n    </tr>\n    <tr>\n      <th>4</th>\n      <td>미국</td>\n      <td>컴퓨터 및 주변기기</td>\n      <td>면세점 이외</td>\n      <td>2018.1/4</td>\n      <td>2033</td>\n      <td>2018</td>\n      <td>1</td>\n    </tr>\n  </tbody>\n</table>\n</div>"
     },
     "execution_count": 60,
     "metadata": {},
     "output_type": "execute_result"
    }
   ],
   "source": [
    "# Q2 pivot_table\n",
    "df.head()"
   ],
   "metadata": {
    "collapsed": false,
    "pycharm": {
     "name": "#%%\n"
    }
   }
  },
  {
   "cell_type": "code",
   "execution_count": 63,
   "outputs": [
    {
     "data": {
      "text/plain": "연도            2017    2018    2019    2020    2021    2022\n국가(대륙)별                                                   \n기타           41571   36141   40950   44438   57959   19501\n대양주          18989   17520   13191   16255   16841    5044\n미국          142292  156312  186617  255384  277579  103416\n아세안(ASEAN)   66163   76450   82930  105360   94150   38072\n유럽연합(EU)     31068   36826   39008   39865   32349    9019",
      "text/html": "<div>\n<style scoped>\n    .dataframe tbody tr th:only-of-type {\n        vertical-align: middle;\n    }\n\n    .dataframe tbody tr th {\n        vertical-align: top;\n    }\n\n    .dataframe thead th {\n        text-align: right;\n    }\n</style>\n<table border=\"1\" class=\"dataframe\">\n  <thead>\n    <tr style=\"text-align: right;\">\n      <th>연도</th>\n      <th>2017</th>\n      <th>2018</th>\n      <th>2019</th>\n      <th>2020</th>\n      <th>2021</th>\n      <th>2022</th>\n    </tr>\n    <tr>\n      <th>국가(대륙)별</th>\n      <th></th>\n      <th></th>\n      <th></th>\n      <th></th>\n      <th></th>\n      <th></th>\n    </tr>\n  </thead>\n  <tbody>\n    <tr>\n      <th>기타</th>\n      <td>41571</td>\n      <td>36141</td>\n      <td>40950</td>\n      <td>44438</td>\n      <td>57959</td>\n      <td>19501</td>\n    </tr>\n    <tr>\n      <th>대양주</th>\n      <td>18989</td>\n      <td>17520</td>\n      <td>13191</td>\n      <td>16255</td>\n      <td>16841</td>\n      <td>5044</td>\n    </tr>\n    <tr>\n      <th>미국</th>\n      <td>142292</td>\n      <td>156312</td>\n      <td>186617</td>\n      <td>255384</td>\n      <td>277579</td>\n      <td>103416</td>\n    </tr>\n    <tr>\n      <th>아세안(ASEAN)</th>\n      <td>66163</td>\n      <td>76450</td>\n      <td>82930</td>\n      <td>105360</td>\n      <td>94150</td>\n      <td>38072</td>\n    </tr>\n    <tr>\n      <th>유럽연합(EU)</th>\n      <td>31068</td>\n      <td>36826</td>\n      <td>39008</td>\n      <td>39865</td>\n      <td>32349</td>\n      <td>9019</td>\n    </tr>\n  </tbody>\n</table>\n</div>"
     },
     "execution_count": 63,
     "metadata": {},
     "output_type": "execute_result"
    }
   ],
   "source": [
    "df2 = pd.pivot_table(df, index='국가(대륙)별', columns = '연도', values = '백만', aggfunc = sum)\n",
    "df2.head()"
   ],
   "metadata": {
    "collapsed": false,
    "pycharm": {
     "name": "#%%\n"
    }
   }
  },
  {
   "cell_type": "code",
   "execution_count": 66,
   "outputs": [
    {
     "data": {
      "text/plain": "     국가(대륙)별          상품군별   판매유형별        시점    백만    연도  분기\n12        미국    컴퓨터 및 주변기기  면세점 이외  2020.1/4  1182  2020   1\n13        미국    컴퓨터 및 주변기기  면세점 이외  2020.2/4  1631  2020   2\n14        미국    컴퓨터 및 주변기기  면세점 이외  2020.3/4  1871  2020   3\n15        미국    컴퓨터 및 주변기기  면세점 이외  2020.4/4  1373  2020   4\n34        미국    가전·전자·통신기기  면세점 이외  2020.1/4  1818  2020   1\n...      ...           ...     ...       ...   ...   ...  ..\n2743      기타  생활용품 및 자동차용품  면세점 이외  2020.4/4   392  2020   4\n2762      기타           기 타  면세점 이외  2020.1/4   939  2020   1\n2763      기타           기 타  면세점 이외  2020.2/4   710  2020   2\n2764      기타           기 타  면세점 이외  2020.3/4   826  2020   3\n2765      기타           기 타  면세점 이외  2020.4/4   870  2020   4\n\n[504 rows x 7 columns]",
      "text/html": "<div>\n<style scoped>\n    .dataframe tbody tr th:only-of-type {\n        vertical-align: middle;\n    }\n\n    .dataframe tbody tr th {\n        vertical-align: top;\n    }\n\n    .dataframe thead th {\n        text-align: right;\n    }\n</style>\n<table border=\"1\" class=\"dataframe\">\n  <thead>\n    <tr style=\"text-align: right;\">\n      <th></th>\n      <th>국가(대륙)별</th>\n      <th>상품군별</th>\n      <th>판매유형별</th>\n      <th>시점</th>\n      <th>백만</th>\n      <th>연도</th>\n      <th>분기</th>\n    </tr>\n  </thead>\n  <tbody>\n    <tr>\n      <th>12</th>\n      <td>미국</td>\n      <td>컴퓨터 및 주변기기</td>\n      <td>면세점 이외</td>\n      <td>2020.1/4</td>\n      <td>1182</td>\n      <td>2020</td>\n      <td>1</td>\n    </tr>\n    <tr>\n      <th>13</th>\n      <td>미국</td>\n      <td>컴퓨터 및 주변기기</td>\n      <td>면세점 이외</td>\n      <td>2020.2/4</td>\n      <td>1631</td>\n      <td>2020</td>\n      <td>2</td>\n    </tr>\n    <tr>\n      <th>14</th>\n      <td>미국</td>\n      <td>컴퓨터 및 주변기기</td>\n      <td>면세점 이외</td>\n      <td>2020.3/4</td>\n      <td>1871</td>\n      <td>2020</td>\n      <td>3</td>\n    </tr>\n    <tr>\n      <th>15</th>\n      <td>미국</td>\n      <td>컴퓨터 및 주변기기</td>\n      <td>면세점 이외</td>\n      <td>2020.4/4</td>\n      <td>1373</td>\n      <td>2020</td>\n      <td>4</td>\n    </tr>\n    <tr>\n      <th>34</th>\n      <td>미국</td>\n      <td>가전·전자·통신기기</td>\n      <td>면세점 이외</td>\n      <td>2020.1/4</td>\n      <td>1818</td>\n      <td>2020</td>\n      <td>1</td>\n    </tr>\n    <tr>\n      <th>...</th>\n      <td>...</td>\n      <td>...</td>\n      <td>...</td>\n      <td>...</td>\n      <td>...</td>\n      <td>...</td>\n      <td>...</td>\n    </tr>\n    <tr>\n      <th>2743</th>\n      <td>기타</td>\n      <td>생활용품 및 자동차용품</td>\n      <td>면세점 이외</td>\n      <td>2020.4/4</td>\n      <td>392</td>\n      <td>2020</td>\n      <td>4</td>\n    </tr>\n    <tr>\n      <th>2762</th>\n      <td>기타</td>\n      <td>기 타</td>\n      <td>면세점 이외</td>\n      <td>2020.1/4</td>\n      <td>939</td>\n      <td>2020</td>\n      <td>1</td>\n    </tr>\n    <tr>\n      <th>2763</th>\n      <td>기타</td>\n      <td>기 타</td>\n      <td>면세점 이외</td>\n      <td>2020.2/4</td>\n      <td>710</td>\n      <td>2020</td>\n      <td>2</td>\n    </tr>\n    <tr>\n      <th>2764</th>\n      <td>기타</td>\n      <td>기 타</td>\n      <td>면세점 이외</td>\n      <td>2020.3/4</td>\n      <td>826</td>\n      <td>2020</td>\n      <td>3</td>\n    </tr>\n    <tr>\n      <th>2765</th>\n      <td>기타</td>\n      <td>기 타</td>\n      <td>면세점 이외</td>\n      <td>2020.4/4</td>\n      <td>870</td>\n      <td>2020</td>\n      <td>4</td>\n    </tr>\n  </tbody>\n</table>\n<p>504 rows × 7 columns</p>\n</div>"
     },
     "execution_count": 66,
     "metadata": {},
     "output_type": "execute_result"
    }
   ],
   "source": [
    "# Q3\n",
    "df3 = df[(df['연도'] == 2020)]\n",
    "df3"
   ],
   "metadata": {
    "collapsed": false,
    "pycharm": {
     "name": "#%%\n"
    }
   }
  },
  {
   "cell_type": "code",
   "execution_count": 76,
   "outputs": [
    {
     "data": {
      "text/plain": "국가(대륙)별          기타   대양주     미국  아세안(ASEAN)  유럽연합(EU)      일본      중국   중남미  \\\n상품군별                                                                           \n가전·전자·통신기기     1716  3825  10103       12405      3040     404    1353   912   \n기 타            3345   923  38731        2620      3907   30509   22736   625   \n농축수산물             9     1     33          17         0       2      88     0   \n사무·문구           187    21    398        3279        25    1526     403     3   \n생활용품 및 자동차용품   1464  1198  11467        6432      2560    3911    7142  1361   \n서 적            4563   367   9709        4192       514    1055    6659   188   \n소프트웨어            21    20    865           3        99      27       4    15   \n스포츠·레저용품        755   690   5862        7423      1297     646    3999   183   \n아동·유아용품        1646   484   4934        2698      1354    1353    5606   151   \n음·식료품          1596   403   2706        4291       423    4699    4220   774   \n음반·비디오·악기      1410  1800  32919       16135     12092   14738  125078  6421   \n의류 및 패션 관련상품   6501  3746  82154       37992      5120  119452   73068   614   \n컴퓨터 및 주변기기     5653   318   6057         541      1910     193     235   362   \n화장품           15572  2459  49446        7332      7524   42215   38855   954   \n\n국가(대륙)별         중동  \n상품군별                \n가전·전자·통신기기     839  \n기 타            533  \n농축수산물            0  \n사무·문구            4  \n생활용품 및 자동차용품  1060  \n서 적            139  \n소프트웨어           17  \n스포츠·레저용품       196  \n아동·유아용품        121  \n음·식료품          927  \n음반·비디오·악기     3250  \n의류 및 패션 관련상품  1776  \n컴퓨터 및 주변기기     388  \n화장품           2217  ",
      "text/html": "<div>\n<style scoped>\n    .dataframe tbody tr th:only-of-type {\n        vertical-align: middle;\n    }\n\n    .dataframe tbody tr th {\n        vertical-align: top;\n    }\n\n    .dataframe thead th {\n        text-align: right;\n    }\n</style>\n<table border=\"1\" class=\"dataframe\">\n  <thead>\n    <tr style=\"text-align: right;\">\n      <th>국가(대륙)별</th>\n      <th>기타</th>\n      <th>대양주</th>\n      <th>미국</th>\n      <th>아세안(ASEAN)</th>\n      <th>유럽연합(EU)</th>\n      <th>일본</th>\n      <th>중국</th>\n      <th>중남미</th>\n      <th>중동</th>\n    </tr>\n    <tr>\n      <th>상품군별</th>\n      <th></th>\n      <th></th>\n      <th></th>\n      <th></th>\n      <th></th>\n      <th></th>\n      <th></th>\n      <th></th>\n      <th></th>\n    </tr>\n  </thead>\n  <tbody>\n    <tr>\n      <th>가전·전자·통신기기</th>\n      <td>1716</td>\n      <td>3825</td>\n      <td>10103</td>\n      <td>12405</td>\n      <td>3040</td>\n      <td>404</td>\n      <td>1353</td>\n      <td>912</td>\n      <td>839</td>\n    </tr>\n    <tr>\n      <th>기 타</th>\n      <td>3345</td>\n      <td>923</td>\n      <td>38731</td>\n      <td>2620</td>\n      <td>3907</td>\n      <td>30509</td>\n      <td>22736</td>\n      <td>625</td>\n      <td>533</td>\n    </tr>\n    <tr>\n      <th>농축수산물</th>\n      <td>9</td>\n      <td>1</td>\n      <td>33</td>\n      <td>17</td>\n      <td>0</td>\n      <td>2</td>\n      <td>88</td>\n      <td>0</td>\n      <td>0</td>\n    </tr>\n    <tr>\n      <th>사무·문구</th>\n      <td>187</td>\n      <td>21</td>\n      <td>398</td>\n      <td>3279</td>\n      <td>25</td>\n      <td>1526</td>\n      <td>403</td>\n      <td>3</td>\n      <td>4</td>\n    </tr>\n    <tr>\n      <th>생활용품 및 자동차용품</th>\n      <td>1464</td>\n      <td>1198</td>\n      <td>11467</td>\n      <td>6432</td>\n      <td>2560</td>\n      <td>3911</td>\n      <td>7142</td>\n      <td>1361</td>\n      <td>1060</td>\n    </tr>\n    <tr>\n      <th>서 적</th>\n      <td>4563</td>\n      <td>367</td>\n      <td>9709</td>\n      <td>4192</td>\n      <td>514</td>\n      <td>1055</td>\n      <td>6659</td>\n      <td>188</td>\n      <td>139</td>\n    </tr>\n    <tr>\n      <th>소프트웨어</th>\n      <td>21</td>\n      <td>20</td>\n      <td>865</td>\n      <td>3</td>\n      <td>99</td>\n      <td>27</td>\n      <td>4</td>\n      <td>15</td>\n      <td>17</td>\n    </tr>\n    <tr>\n      <th>스포츠·레저용품</th>\n      <td>755</td>\n      <td>690</td>\n      <td>5862</td>\n      <td>7423</td>\n      <td>1297</td>\n      <td>646</td>\n      <td>3999</td>\n      <td>183</td>\n      <td>196</td>\n    </tr>\n    <tr>\n      <th>아동·유아용품</th>\n      <td>1646</td>\n      <td>484</td>\n      <td>4934</td>\n      <td>2698</td>\n      <td>1354</td>\n      <td>1353</td>\n      <td>5606</td>\n      <td>151</td>\n      <td>121</td>\n    </tr>\n    <tr>\n      <th>음·식료품</th>\n      <td>1596</td>\n      <td>403</td>\n      <td>2706</td>\n      <td>4291</td>\n      <td>423</td>\n      <td>4699</td>\n      <td>4220</td>\n      <td>774</td>\n      <td>927</td>\n    </tr>\n    <tr>\n      <th>음반·비디오·악기</th>\n      <td>1410</td>\n      <td>1800</td>\n      <td>32919</td>\n      <td>16135</td>\n      <td>12092</td>\n      <td>14738</td>\n      <td>125078</td>\n      <td>6421</td>\n      <td>3250</td>\n    </tr>\n    <tr>\n      <th>의류 및 패션 관련상품</th>\n      <td>6501</td>\n      <td>3746</td>\n      <td>82154</td>\n      <td>37992</td>\n      <td>5120</td>\n      <td>119452</td>\n      <td>73068</td>\n      <td>614</td>\n      <td>1776</td>\n    </tr>\n    <tr>\n      <th>컴퓨터 및 주변기기</th>\n      <td>5653</td>\n      <td>318</td>\n      <td>6057</td>\n      <td>541</td>\n      <td>1910</td>\n      <td>193</td>\n      <td>235</td>\n      <td>362</td>\n      <td>388</td>\n    </tr>\n    <tr>\n      <th>화장품</th>\n      <td>15572</td>\n      <td>2459</td>\n      <td>49446</td>\n      <td>7332</td>\n      <td>7524</td>\n      <td>42215</td>\n      <td>38855</td>\n      <td>954</td>\n      <td>2217</td>\n    </tr>\n  </tbody>\n</table>\n</div>"
     },
     "execution_count": 76,
     "metadata": {},
     "output_type": "execute_result"
    }
   ],
   "source": [
    "df4 = df3.groupby(['상품군별','국가(대륙)별']).백만.sum()\n",
    "df4.unstack()"
   ],
   "metadata": {
    "collapsed": false,
    "pycharm": {
     "name": "#%%\n"
    }
   }
  },
  {
   "cell_type": "code",
   "execution_count": null,
   "outputs": [],
   "source": [],
   "metadata": {
    "collapsed": false,
    "pycharm": {
     "name": "#%%\n"
    }
   }
  },
  {
   "cell_type": "code",
   "execution_count": null,
   "outputs": [],
   "source": [],
   "metadata": {
    "collapsed": false,
    "pycharm": {
     "name": "#%%\n"
    }
   }
  },
  {
   "cell_type": "code",
   "execution_count": null,
   "outputs": [],
   "source": [],
   "metadata": {
    "collapsed": false,
    "pycharm": {
     "name": "#%%\n"
    }
   }
  }
 ],
 "metadata": {
  "kernelspec": {
   "display_name": "Python 3",
   "language": "python",
   "name": "python3"
  },
  "language_info": {
   "codemirror_mode": {
    "name": "ipython",
    "version": 2
   },
   "file_extension": ".py",
   "mimetype": "text/x-python",
   "name": "python",
   "nbconvert_exporter": "python",
   "pygments_lexer": "ipython2",
   "version": "2.7.6"
  }
 },
 "nbformat": 4,
 "nbformat_minor": 0
}